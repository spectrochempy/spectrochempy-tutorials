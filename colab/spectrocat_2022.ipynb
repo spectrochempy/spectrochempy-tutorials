{
  "cells": [
    {
      "cell_type": "markdown",
      "metadata": {
        "id": "view-in-github",
        "colab_type": "text"
      },
      "source": [
        "<a href=\"https://colab.research.google.com/github/spectrochempy/spectrochempy_tutorials/blob/main/colab/spectrocat_2022.ipynb\" target=\"_parent\"><img src=\"https://colab.research.google.com/assets/colab-badge.svg\" alt=\"Open In Colab\"/></a>"
      ]
    },
    {
      "cell_type": "markdown",
      "source": [
        "<font color='green' size='6'> Spectrocat 2022: Process and Analyze IR Data</font> \n",
        "\n",
        "This tutorial shows how to handle and process spectroscopic data with the python API **SpectroChemPy** (nicknamed scp or scpy) and **Google Colab**. \n",
        "\n",
        "SpectroChemPy is not pre-installed in Colab. It is therefore necessary to install it before using it.\n",
        "\n",
        "To do this, we execute the following shell command:"
      ],
      "metadata": {
        "id": "oECcBS0R7xYB"
      },
      "id": "oECcBS0R7xYB"
    },
    {
      "cell_type": "code",
      "execution_count": null,
      "metadata": {
        "id": "ogMoVo_Dfg3B"
      },
      "outputs": [],
      "source": [
        "! pip install spectrochempy &>> log\n",
        "exit()"
      ],
      "id": "ogMoVo_Dfg3B"
    },
    {
      "cell_type": "markdown",
      "source": [
        "Now, we can start the tutorial."
      ],
      "metadata": {
        "id": "onxg9XE6Q7P-"
      },
      "id": "onxg9XE6Q7P-"
    },
    {
      "cell_type": "markdown",
      "metadata": {
        "id": "f80s0x2Bhxdg"
      },
      "source": [
        "## 1 Import spectrochempy and load data\n"
      ],
      "id": "f80s0x2Bhxdg"
    },
    {
      "cell_type": "markdown",
      "metadata": {
        "id": "Q-eztK1hh3L9"
      },
      "source": [
        "First, is it required to ``import spectrochempy as scp`` in the current namespace, so that all spectrochempy commands will be called as ``scp.method(<method parameters>)``. We also import other libraries for this tutorial "
      ],
      "id": "Q-eztK1hh3L9"
    },
    {
      "cell_type": "code",
      "execution_count": null,
      "metadata": {
        "id": "028d6a21-5a6a-4970-a4a5-2a8926cba538"
      },
      "outputs": [],
      "source": [
        "import spectrochempy as scp\n",
        "import numpy as np"
      ],
      "id": "028d6a21-5a6a-4970-a4a5-2a8926cba538"
    },
    {
      "cell_type": "markdown",
      "metadata": {
        "id": "eb07db81-df86-483c-9972-8f3a4709d712"
      },
      "source": [
        "For this tutorial, we will load a dataset which was recorded during the removal of ammonia from a NH4-Y zeolite:"
      ],
      "id": "eb07db81-df86-483c-9972-8f3a4709d712"
    },
    {
      "cell_type": "markdown",
      "source": [
        ""
      ],
      "metadata": {
        "id": "GYouP0VRRMbV"
      },
      "id": "GYouP0VRRMbV"
    },
    {
      "cell_type": "code",
      "execution_count": null,
      "metadata": {
        "id": "c17fc82e-bb04-46f6-b3a1-905ca2643d97"
      },
      "outputs": [],
      "source": [
        "D = scp.read_omnic(\"irdata/nh4y-activation.spg\")\n",
        "D"
      ],
      "id": "c17fc82e-bb04-46f6-b3a1-905ca2643d97"
    },
    {
      "cell_type": "markdown",
      "metadata": {
        "id": "3fe6dc11-2189-4758-8ffc-5621cc2c95b2"
      },
      "source": [
        "## 2 Description of the NDDsataset\n",
        "\n",
        "\n",
        "\n"
      ],
      "id": "3fe6dc11-2189-4758-8ffc-5621cc2c95b2"
    },
    {
      "cell_type": "markdown",
      "metadata": {
        "id": "kPtFK7BGhcfP"
      },
      "source": [
        "As you can see above, the spectra and their metadata have been imported as a `NDDataset`, a python Class that has been developed to handle data (absorbances) and metadata (title, history, etc...), and stored in `D`.\n",
        "\n",
        "The main attributes of the NDDataset displayed above are:\n",
        "- `name` is the name of the group of spectra as it appears in the .spg file. OMNIC sets this name to the .spg filename used at the creation of the group. \n",
        "- `author` is that of the creator of the NDDataset The string is composed of the username and of the machine name as given by the OS: `username@machinename`. It can be accessed and changed using `D.author`.\n",
        "- `created` is the creation date of the NDDataset (again not that of the .spg file). It can be accessed (or even changed) using `D.created`.\n",
        "- `description` indicates the complete pathname of the .spg file. As the pathname is also given in the history (below), it can be a good practice to give a self explaining description of the group, for instance:"
      ],
      "id": "kPtFK7BGhcfP"
    },
    {
      "cell_type": "code",
      "execution_count": null,
      "metadata": {
        "id": "d36ecbc0-0d28-4588-98dd-868167224e8a"
      },
      "outputs": [],
      "source": [
        "D.description = \"activation of NH4-Y zeolite\"\n",
        "print(D.description)"
      ],
      "id": "d36ecbc0-0d28-4588-98dd-868167224e8a"
    },
    {
      "cell_type": "markdown",
      "metadata": {
        "id": "71f34e9f-c7aa-4c4f-9465-7ab077c27820"
      },
      "source": [
        "- `history` records changes made to the dataset. Here, right after its creation, it has been sorted by date.\n",
        "\n",
        "Then come the attributes related to the data themselves:\n",
        "\n",
        "- `title` (not to be confused with the `name` of the dataset) describes the nature of data (here **absorbance**).\n",
        "- The numerical values ar accessed through the`data` attribute and the units throughout `units` attribute."
      ],
      "id": "71f34e9f-c7aa-4c4f-9465-7ab077c27820"
    },
    {
      "cell_type": "code",
      "execution_count": null,
      "metadata": {
        "id": "d5504ef3-8d72-4d77-a903-e6b522b5d4dd"
      },
      "outputs": [],
      "source": [
        "D.data"
      ],
      "id": "d5504ef3-8d72-4d77-a903-e6b522b5d4dd"
    },
    {
      "cell_type": "code",
      "execution_count": null,
      "metadata": {
        "id": "d22e6677-c5f3-494b-8d13-915d319afdaa"
      },
      "outputs": [],
      "source": [
        "print(D.units)"
      ],
      "id": "d22e6677-c5f3-494b-8d13-915d319afdaa"
    },
    {
      "cell_type": "markdown",
      "metadata": {
        "id": "Xxam6TUsgZaa"
      },
      "source": [
        "- `shape` is the same as the ndarray `shape` attribute and gives the shape of the data array, here 19 x 3112.\n",
        "\n",
        "Then come the attributes related to the dimensions of the dataset.\n",
        "\n",
        "- `x`: this dimension has one coordinate (a `Coord` object) made of 5549 the wavenumbers.\n"
      ],
      "id": "Xxam6TUsgZaa"
    },
    {
      "cell_type": "code",
      "execution_count": null,
      "metadata": {
        "id": "6e25ff37-5937-4d4c-b3ff-dcc05881b054"
      },
      "outputs": [],
      "source": [
        "D.x"
      ],
      "id": "6e25ff37-5937-4d4c-b3ff-dcc05881b054"
    },
    {
      "cell_type": "markdown",
      "metadata": {
        "id": "c15f9a1d-2964-4683-8e6b-9e91d8772c52"
      },
      "source": [
        "- `y`: this dimension contains:\n",
        "    - one coordinate made of the 19 acquisition timestamps\n",
        "    - two labels\n",
        "    - the acquisition date (UTC) of each spectrum\n",
        "    - the name of each spectrum."
      ],
      "id": "c15f9a1d-2964-4683-8e6b-9e91d8772c52"
    },
    {
      "cell_type": "code",
      "execution_count": null,
      "metadata": {
        "id": "24130feb-97b7-4be2-96d0-48446a35f1b6"
      },
      "outputs": [],
      "source": [
        "D.y"
      ],
      "id": "24130feb-97b7-4be2-96d0-48446a35f1b6"
    },
    {
      "cell_type": "code",
      "source": [
        "D.y.labels"
      ],
      "metadata": {
        "id": "ZLBCPgSoWsXJ"
      },
      "id": "ZLBCPgSoWsXJ",
      "execution_count": null,
      "outputs": []
    },
    {
      "cell_type": "markdown",
      "metadata": {
        "id": "be1abd72-9b30-43ff-8fbd-2fd163a94205"
      },
      "source": [
        "## 3 Handle Acquisition dates and `y` axis\n"
      ],
      "id": "be1abd72-9b30-43ff-8fbd-2fd163a94205"
    },
    {
      "cell_type": "markdown",
      "metadata": {
        "id": "A0khDi8XhouE"
      },
      "source": [
        "\n",
        "The acquisition timestamps are the *Unix times* of the acquisition, i.e. the time elapsed in seconds since the\n",
        "reference date of Jan 1st 1970, 00:00:00 UTC."
      ],
      "id": "A0khDi8XhouE"
    },
    {
      "cell_type": "code",
      "execution_count": null,
      "metadata": {
        "id": "cbfa65b7-5ff8-4cae-bb37-a3ac04e2f641"
      },
      "outputs": [],
      "source": [
        "D.y.values"
      ],
      "id": "cbfa65b7-5ff8-4cae-bb37-a3ac04e2f641"
    },
    {
      "cell_type": "markdown",
      "metadata": {
        "id": "9889353b-78d6-4e02-8c4a-fd38a353c229"
      },
      "source": [
        "As such these may be not convenient to use directly (they are currently in the order of 1.5 billion...)\n",
        "With this respect, it can be convenient to shift the origin of time coordinate to that of the 1st spectrum,\n",
        "which has the index `0`:"
      ],
      "id": "9889353b-78d6-4e02-8c4a-fd38a353c229"
    },
    {
      "cell_type": "code",
      "execution_count": null,
      "metadata": {
        "id": "407a0edf-02f6-4328-8351-cf398d13056b"
      },
      "outputs": [],
      "source": [
        "D.y = D.y - D.y[0]\n",
        "D.y.values"
      ],
      "id": "407a0edf-02f6-4328-8351-cf398d13056b"
    },
    {
      "cell_type": "markdown",
      "metadata": {
        "id": "8772c5fd-304a-4637-b12b-1afb57adc26c"
      },
      "source": [
        "It is also possible to use the ability of SpectroChemPy to handle unit changes. For this one can use the `to` or\n",
        "`ito` (inplace) methods.\n",
        "```ipython3\n",
        "val = val.to(some_units)\n",
        "val.ito(some_units)   # the same inplace\n",
        "```"
      ],
      "id": "8772c5fd-304a-4637-b12b-1afb57adc26c"
    },
    {
      "cell_type": "code",
      "execution_count": null,
      "metadata": {
        "id": "ff6cec8e-3700-4a39-9f8b-42ad719d2b82"
      },
      "outputs": [],
      "source": [
        "D.y.ito(\"minute\")\n",
        "D.y.values"
      ],
      "id": "ff6cec8e-3700-4a39-9f8b-42ad719d2b82"
    },
    {
      "cell_type": "markdown",
      "metadata": {
        "id": "6383ede2-5e11-4d8a-8798-5bf5b1d628ae"
      },
      "source": [
        "Finally, if for instance you want the `x` time axis to be shifted by 2 minutes, it is also very easy to do so:"
      ],
      "id": "6383ede2-5e11-4d8a-8798-5bf5b1d628ae"
    },
    {
      "cell_type": "code",
      "execution_count": null,
      "metadata": {
        "id": "43996237-425a-4fa8-aa0c-088d13964ba0"
      },
      "outputs": [],
      "source": [
        "D.y = D.y + 2\n",
        "D.y.values"
      ],
      "id": "43996237-425a-4fa8-aa0c-088d13964ba0"
    },
    {
      "cell_type": "markdown",
      "metadata": {
        "id": "eefbac4b-256e-4a3d-9a43-dedf31e0374f"
      },
      "source": [
        "## 4 Plotting ans slicing\n"
      ],
      "id": "eefbac4b-256e-4a3d-9a43-dedf31e0374f"
    },
    {
      "cell_type": "markdown",
      "metadata": {
        "id": "ZYC0A5Cvh_gY"
      },
      "source": [
        "### 4.1. Basic ploting\n"
      ],
      "id": "ZYC0A5Cvh_gY"
    },
    {
      "cell_type": "markdown",
      "metadata": {
        "id": "X1RY2WnDiVRw"
      },
      "source": [
        "Plots of the dataset can be obtained with the `plot()` method."
      ],
      "id": "X1RY2WnDiVRw"
    },
    {
      "cell_type": "code",
      "execution_count": null,
      "metadata": {
        "id": "4dc8b93e-b24b-4895-8faa-28e9b8a31487"
      },
      "outputs": [],
      "source": [
        "_ = D.plot()"
      ],
      "id": "4dc8b93e-b24b-4895-8faa-28e9b8a31487"
    },
    {
      "cell_type": "markdown",
      "metadata": {
        "id": "sB4WOc3BiYfQ"
      },
      "source": [
        "### 4.2 slicing"
      ],
      "id": "sB4WOc3BiYfQ"
    },
    {
      "cell_type": "markdown",
      "metadata": {
        "id": "I0Boqpr0imfl"
      },
      "source": [
        "#### Basic Slicing "
      ],
      "id": "I0Boqpr0imfl"
    },
    {
      "cell_type": "markdown",
      "metadata": {
        "id": "10072421-ddc5-4d46-96d9-e1f1c8604059"
      },
      "source": [
        "\n",
        "\n",
        "In python the slicing of a list or an array means taking elements from a given index\n",
        "(or set of indexes) to another index (or set of indexes).\n",
        "Slicing is specified using the colon operator `:` with a `from` and `to` index\n",
        "before and after the first column, and a `step` after the second column.\n",
        "Hence, a slice of the object `X` will be set as:\n",
        "\n",
        "    `X[from:to:step]`\n",
        "\n",
        "and will extend from the ‘from’ index, ends one item before the ‘to’ index\n",
        "and with an increment of `step`between each index. When not given the default\n",
        "values are respectively 0 (i.e. starts at the 1st index),\n",
        "length in the dimension (stops at the last index), and 1.\n",
        "\n",
        "Let's first illustrate the concept on a 1D example:"
      ],
      "id": "10072421-ddc5-4d46-96d9-e1f1c8604059"
    },
    {
      "cell_type": "markdown",
      "metadata": {
        "id": "JeALMz6DiSe6"
      },
      "source": [
        ""
      ],
      "id": "JeALMz6DiSe6"
    },
    {
      "cell_type": "code",
      "execution_count": null,
      "metadata": {
        "id": "16c755d0-045e-41eb-9c68-7a412d6ee7ae"
      },
      "outputs": [],
      "source": [
        "X = np.arange(10)  # generates a 1D array of 10 elements from 0 to 9\n",
        "print(X)\n",
        "print(X[2:5])  # selects all elements from 2 to 4\n",
        "print(X[::2])  # selects one out of two elements\n",
        "print(X[:-3])  # a negative index will be counted from the end of the array\n",
        "print(X[::-2]) # a negative step will slice backward, starting from 'to', ending at 'from'"
      ],
      "id": "16c755d0-045e-41eb-9c68-7a412d6ee7ae"
    },
    {
      "cell_type": "markdown",
      "metadata": {
        "id": "cfe96d3e-e22c-4cbc-820d-6a287f491169"
      },
      "source": [
        "The same applies to multidimensional arrays by indicating slices separated by commas:"
      ],
      "id": "cfe96d3e-e22c-4cbc-820d-6a287f491169"
    },
    {
      "cell_type": "code",
      "execution_count": null,
      "metadata": {
        "id": "257ae6bc-aece-4e66-a9e7-4bfc7e9d8e02"
      },
      "outputs": [],
      "source": [
        "X = np.random.rand(10, 10)  # generates a 10x10 array filled with random values\n",
        "print(X.shape)\n",
        "print(X[2:5, :].shape)  # slices along the 1st dimension, X[2:5,] is equivalent\n",
        "print(X[2:5, ::2].shape)  # same slice along 1st dimension and takes one 1 column out of two along the second\n"
      ],
      "id": "257ae6bc-aece-4e66-a9e7-4bfc7e9d8e02"
    },
    {
      "cell_type": "markdown",
      "metadata": {
        "id": "877e5bcd-db2d-47d8-8886-b49d8294e431"
      },
      "source": [
        "#### Slicing of NDDatasets\n"
      ],
      "id": "877e5bcd-db2d-47d8-8886-b49d8294e431"
    },
    {
      "cell_type": "markdown",
      "metadata": {
        "id": "hMKueYIdiwk_"
      },
      "source": [
        "\n",
        "The classical slicing, using integers, can be used. For innstance: But they require For instance, along the 1st dimension:\n"
      ],
      "id": "hMKueYIdiwk_"
    },
    {
      "cell_type": "code",
      "execution_count": null,
      "metadata": {
        "id": "350073b7-60c8-4657-86f4-f57d41c9a59f"
      },
      "outputs": [],
      "source": [
        "print(D[:4])  # selects the first four spectra\n",
        "print(D[-3:])  # selects the last three spectra\n",
        "print(D[::2])  # selects one spectrum out of 2"
      ],
      "id": "350073b7-60c8-4657-86f4-f57d41c9a59f"
    },
    {
      "cell_type": "markdown",
      "metadata": {
        "id": "ed26d403-6a43-4b1a-bd62-2b0e85593b3a"
      },
      "source": [
        "The spectroscopist is generally interested in a particular region of the spectrum, for instance, 4000-2000 cm$^{-1}$. \n",
        "\n",
        "A simple mechanism has been implemented in spectrochempy\n",
        "for this purpose: the use of floats instead of integers will slice the # NDDataset at the corresponding coordinates. For instance to select the 4000-2000 cm$^{-1}$ region:\n",
        "\n"
      ],
      "id": "ed26d403-6a43-4b1a-bd62-2b0e85593b3a"
    },
    {
      "cell_type": "code",
      "execution_count": null,
      "metadata": {
        "id": "2b16b23a-17bd-49b3-81bb-52dc184dec0b"
      },
      "outputs": [],
      "source": [
        "_ = D[:, 4000.0:2000.0:].plot()"
      ],
      "id": "2b16b23a-17bd-49b3-81bb-52dc184dec0b"
    },
    {
      "cell_type": "markdown",
      "metadata": {
        "id": "3b9a92ac-705e-4c05-965f-5879c55e31c2"
      },
      "source": [
        "The same mechanism can be used along the first dimension (`y`).\n",
        "For instance, to select and plot the same region and the spectra recorded between 80 and 180 minutes:"
      ],
      "id": "3b9a92ac-705e-4c05-965f-5879c55e31c2"
    },
    {
      "cell_type": "code",
      "execution_count": null,
      "metadata": {
        "id": "8c1f0560-88be-477f-9591-a752be573997"
      },
      "outputs": [],
      "source": [
        "_ = D[80.0:180.0, 4000.:3000.].plot()   # Note that a decimal point is enough to get a float"
      ],
      "id": "8c1f0560-88be-477f-9591-a752be573997"
    },
    {
      "cell_type": "markdown",
      "metadata": {
        "id": "40af1f39-c8dd-4a62-ac39-f0f48ba255e3"
      },
      "source": [
        "## 5 Baseline corrections\n"
      ],
      "id": "40af1f39-c8dd-4a62-ac39-f0f48ba255e3"
    },
    {
      "cell_type": "markdown",
      "metadata": {
        "id": "8pXDO_krjtSz"
      },
      "source": [
        "\n",
        "### 5.1 Background subtraction\n"
      ],
      "id": "8pXDO_krjtSz"
    },
    {
      "cell_type": "markdown",
      "metadata": {
        "id": "M5oQexJojuhz"
      },
      "source": [
        "\n",
        "Often, particularly for surface species, the baseline is first corrected by subtracting a reference spectrum. In this example, it could be, for instance, the last spectrum (index -1). Hence:"
      ],
      "id": "M5oQexJojuhz"
    },
    {
      "cell_type": "code",
      "execution_count": null,
      "metadata": {
        "id": "4fdb0b69-a5c8-45d0-9692-81c281522b2f"
      },
      "outputs": [],
      "source": [
        "Ddiff = D - D[-1]\n",
        "_ = Ddiff.plot()"
      ],
      "id": "4fdb0b69-a5c8-45d0-9692-81c281522b2f"
    },
    {
      "cell_type": "markdown",
      "metadata": {
        "id": "1628868a-f42a-43be-a848-783b02571405"
      },
      "source": [
        "### 5.2. Detrend\n",
        "\n"
      ],
      "id": "1628868a-f42a-43be-a848-783b02571405"
    },
    {
      "cell_type": "markdown",
      "metadata": {
        "id": "7iFWlPGlj4Hd"
      },
      "source": [
        "Other simple baseline corrections - often use in preprocessing prior chemometric analysis - constist in shifting the spectra or removing a linear trend. This is done using the `detrend()` method, which is a wrapper of the [detrend() method](https://docs.scipy.org/doc/scipy/reference/generated/scipy.signal.detrend.html) from the [# scipy.signal](https://docs.scipy.org/doc/scipy/reference/signal.html) module. \n",
        "\n",
        "Two types of trend can be used: `'linear'` (default) will subtract the linear trend of each spectrum, `'constant'` will subtract a constant value for each spectrum."
      ],
      "id": "7iFWlPGlj4Hd"
    },
    {
      "cell_type": "code",
      "execution_count": null,
      "metadata": {
        "id": "e2b8ca2c-707f-4976-b98c-d93fc4c1abe7"
      },
      "outputs": [],
      "source": [
        "_ = D.detrend().plot()"
      ],
      "id": "e2b8ca2c-707f-4976-b98c-d93fc4c1abe7"
    },
    {
      "cell_type": "code",
      "execution_count": null,
      "metadata": {
        "id": "9eab4cf9-d206-48b5-9dca-3163d2841cb2"
      },
      "outputs": [],
      "source": [
        "_ = D.detrend(type=\"constant\").plot()"
      ],
      "id": "9eab4cf9-d206-48b5-9dca-3163d2841cb2"
    },
    {
      "cell_type": "markdown",
      "metadata": {
        "id": "8a2b7dcf-3b72-4968-8e5d-2f73bf41207e"
      },
      "source": [
        "### 5.3. Advanced baseline correction\n",
        "\n",
        "\n"
      ],
      "id": "8a2b7dcf-3b72-4968-8e5d-2f73bf41207e"
    },
    {
      "cell_type": "markdown",
      "metadata": {
        "id": "UXTPKb84j_23"
      },
      "source": [
        "'Advanced' baseline correction basically consists for the user to choose:\n",
        "\n",
        "- spectral ranges which s/he considers as belonging to the baseline \n",
        "- the type of polynomial(s) used to model the baseline in and between these regions (keyword: `interpolation`) \n",
        "- the method used to apply the correction to spectra: sequentially to each spectrum, or using a multivariate approach (keyword: `method`).\n",
        "\n",
        "#### Range selection\n",
        "\n",
        "Each spectral range is defined by a list of two values indicating the limits of the spectral ranges, e.g. `[4500., 3500.]` to\n",
        "select the 4500-3500 cm$^{-1}$ range. Note that the ordering has no importance and\n",
        "using `[3500.0, 4500.]` would lead to exactly the same result. It is also possible to formally pick a single\n",
        "wavenumber `3750.`.\n",
        "\n",
        "The first step is then to select the various regions that we expect to belong to the baseline"
      ],
      "id": "UXTPKb84j_23"
    },
    {
      "cell_type": "code",
      "execution_count": null,
      "metadata": {
        "id": "72241db4-3733-4550-8db6-9cc6f5ea84a4"
      },
      "outputs": [],
      "source": [
        "ranges = [5900.0, 5400.0], 4550.0, [4500.0, 4000.0], [2100.0, 2000.0], [1550.0, 1555.0]"
      ],
      "id": "72241db4-3733-4550-8db6-9cc6f5ea84a4"
    },
    {
      "cell_type": "markdown",
      "metadata": {
        "id": "7685b2d8-b084-454b-988b-a4313dae8a2d"
      },
      "source": [
        "After selection of the baseline ranges, the baseline correction can be made using a\n",
        "sequence of 2 commands:\n",
        "\n",
        "- Initialize an instance of BaselineCorrection\n",
        "- Compute baseline other the ranges"
      ],
      "id": "7685b2d8-b084-454b-988b-a4313dae8a2d"
    },
    {
      "cell_type": "code",
      "execution_count": null,
      "metadata": {
        "id": "d6f4f970-ab1e-41ff-927c-ddb5957c5032"
      },
      "outputs": [],
      "source": [
        "blc = scp.BaselineCorrection(D)\n",
        "Dcorr = blc.compute(ranges)\n",
        "_ = Dcorr.plot()"
      ],
      "id": "d6f4f970-ab1e-41ff-927c-ddb5957c5032"
    },
    {
      "cell_type": "markdown",
      "metadata": {
        "id": "f1012b2d-eaf2-4855-9aed-3ace28a42f83"
      },
      "source": [
        "#### Playing with the options\n",
        "\n",
        "Now your turn: the following code will baselinecorrect and display the results. \n",
        "Change all 'user defined parameters' required to baseline correct the last spectra in the OH region..."
      ],
      "id": "f1012b2d-eaf2-4855-9aed-3ace28a42f83"
    },
    {
      "cell_type": "code",
      "execution_count": null,
      "metadata": {
        "id": "d58d9176-07e9-452b-bc22-52345137a313"
      },
      "outputs": [],
      "source": [
        "# user defined parameters\n",
        "# -----------------------\n",
        "\n",
        "D_ = D[:,:] # time and wavenumber ranges   \n",
        "\n",
        "ranges = (\n",
        "    [5900.0, 5400.0],\n",
        "    [4000.0, 4500.0],\n",
        "    4550.0,\n",
        "    [2100.0, 2000.0],\n",
        "    [1550.0, 1555.0],\n",
        "    [1250.0, 1300.0],\n",
        "    [800.0, 850.0],\n",
        ")\n",
        "interpolation = \"polynomial\"  # choose 'polynomial' or 'pchip'\n",
        "order = 1  # only used for 'polynomial'\n",
        "method = \"sequential\"  # choose 'sequential' or 'multivariate'\n",
        "npc = 3  # only used for 'multivariate'\n",
        "\n",
        "# code: compute baseline, plot original and corrected NDDatasets and ranges\n",
        "# -------------------------------------------------------------------------\n",
        "\n",
        "blc = scp.BaselineCorrection(D_)\n",
        "D_corr = blc.compute(\n",
        "    *ranges, interpolation=interpolation, order=order, method=method, npc=npc\n",
        ")\n",
        "\n",
        "axes = scp.multiplot(\n",
        "    [D_, D_corr],\n",
        "    labels=[\"Original\", \"Baseline corrected\"],\n",
        "    sharex=True,\n",
        "    nrow=2,\n",
        "    ncol=1,\n",
        "    figsize=(7, 6),\n",
        "    dpi=96,\n",
        ")\n",
        "blc.show_regions(axes[\"axe21\"])\n"
      ],
      "id": "d58d9176-07e9-452b-bc22-52345137a313"
    },
    {
      "cell_type": "markdown",
      "metadata": {
        "id": "S-uX_8sDj93O"
      },
      "source": [
        "## 6 Smoothing and derivatives"
      ],
      "id": "S-uX_8sDj93O"
    },
    {
      "cell_type": "markdown",
      "metadata": {
        "id": "Pjxr0hjTlEYZ"
      },
      "source": [
        "Here, we will learn to smooth spectra along one dimension. L'et's first select a loisy part if the spectra "
      ],
      "id": "Pjxr0hjTlEYZ"
    },
    {
      "cell_type": "code",
      "execution_count": null,
      "metadata": {
        "id": "CvHck8UElmfT"
      },
      "outputs": [],
      "source": [
        "D_n = D[0:5, 3600.0:2800.0] \n",
        "_ = D_n.plot()"
      ],
      "id": "CvHck8UElmfT"
    },
    {
      "cell_type": "markdown",
      "metadata": {
        "id": "WgCIYu6imEAP"
      },
      "source": [
        "### 6.1 Smoothing"
      ],
      "id": "WgCIYu6imEAP"
    },
    {
      "cell_type": "markdown",
      "metadata": {
        "id": "KOy9LK4fmbQW"
      },
      "source": [
        "#### The `smooth()` method"
      ],
      "id": "KOy9LK4fmbQW"
    },
    {
      "cell_type": "markdown",
      "metadata": {
        "id": "z2yJGQvrmeOp"
      },
      "source": [
        "The `smooth()` method is adapted from the [\"Smoothing of a 1D signal\" code](\n",
        "https://scipy-cookbook.readthedocs.io/items/SignalSmooth.html) of the [Scipy cookbook](\n",
        "https://scipy-cookbook.readthedocs.io/). It is a (weighted)-moving average method and consist in the convolution of\n",
        "a window of a given length with the spectrum.\n",
        "\n",
        "In its simplest form - *i.e.* unweighted moving average - each absorbance at a given wavenumber of the smoothed\n",
        "spectrum is the average of the absorbance at the absorbance at the considered wavenumber and the N neighboring\n",
        "wavenumbers (*i.e.* N/2 before and N/2 after), hence the conventional use of an odd number of N+1 points to define\n",
        "the window length. For the points located at both end of the spectra, the extremities of the spectrum are mirrored\n",
        "beyond the initial limits to minimize boundary effects.\n",
        "\n",
        "When passed as is, i.e. `X.smooth()`, the method uses a moving average of 5 points:"
      ],
      "id": "z2yJGQvrmeOp"
    },
    {
      "cell_type": "code",
      "execution_count": null,
      "metadata": {
        "id": "KoJofmrEm1vU"
      },
      "outputs": [],
      "source": [
        "_ = D_n.smooth().plot()"
      ],
      "id": "KoJofmrEm1vU"
    },
    {
      "cell_type": "markdown",
      "metadata": {
        "id": "9kzzTatHnDfS"
      },
      "source": [
        "The following code compares the influence of the window size on the smoothing of the first spectrum of the NDDataset `X[0]`.\n"
      ],
      "id": "9kzzTatHnDfS"
    },
    {
      "cell_type": "code",
      "execution_count": null,
      "metadata": {
        "id": "qQF1JZU2nJFu"
      },
      "outputs": [],
      "source": [
        "spectra_list = [D_n[0],]\n",
        "labels = [\"Initial\", ]\n",
        "\n",
        "for i, length in enumerate([5, 11, 27, 51, 101, 201, 501]):\n",
        "    s = D_n[0].smooth(window_length=length)  # smooth\n",
        "    s += 0.1 * (1 + i)  # shift the absorbance by +0.1 a.u. with respect to previous iteration\n",
        "    spectra_list.append(s)\n",
        "    labels.append(f\"length: {length}\")\n",
        "\n",
        "D_s = scp.stack(spectra_list)\n",
        "_ = D_s.plot()"
      ],
      "id": "qQF1JZU2nJFu"
    },
    {
      "cell_type": "markdown",
      "metadata": {
        "id": "Qz1RCEKOolLR"
      },
      "source": [
        "For large windows, the spectrum is flattened out and distorted. When determining the optimum window length, one should thus consider the balance between noise removal and signal integrity: the larger the window length, the stronger the smoothing, but also the greater the chance to distort the spectrum."
      ],
      "id": "Qz1RCEKOolLR"
    },
    {
      "cell_type": "markdown",
      "metadata": {
        "id": "bIPXeUrBo4qQ"
      },
      "source": [
        "#### Savitzky-Golay algorithm:savgol_filter()"
      ],
      "id": "bIPXeUrBo4qQ"
    },
    {
      "cell_type": "markdown",
      "metadata": {
        "id": "y4zxlK2CpAZX"
      },
      "source": [
        "The second algorithm implemented in spectrochempy is the Savitzky-Golay filter which uses a polynomial interpolation in the moving window. A demonstrative illustration of the method can be found on the [Savitzky-Golay filter](https://en.wikipedia.org/wiki/Savitzky%E2%80%93Golay_filter) entry of Wikipedia.\n",
        "\n",
        "The function implemented in spectrochempy is a wrapper of the [savgol_filert() method](https://docs.scipy.org/doc/scipy/reference/generated/scipy.signal.savgol_filter.html) from the [scipy.signal](\n",
        "https://docs.scipy.org/doc/scipy/reference/signal.html) module. \n",
        "\n",
        "It not only used to smooth spectra but also to compute their successive derivatives. The latter are treated below. We focus here on the smoothing which is the default of the filter (default parameter: `deriv=0`).\n",
        "\n",
        "As for the `smooth()` method, it is a moving-window based method. Hence, the window length (`window_length` parameter) plays an equivalent role, except that it *must* be odd. Moreover, instead of choosing a window function,\n",
        "the user can choose the order of the polynomial used to fit the window data points (`polyorder`, default value: 0).\n",
        "The latter must be strictly smaller than the window size (so that the polynomial coefficients can be fully determined).\n",
        "\n",
        "The use of this method is illustrated below.  You can assess the impact of the window length and polynomial order: "
      ],
      "id": "y4zxlK2CpAZX"
    },
    {
      "cell_type": "code",
      "execution_count": null,
      "metadata": {
        "id": "IKwwWvz_piS5"
      },
      "outputs": [],
      "source": [
        "_ = D_n.savgol_filter(window_length=11, polyorder=6).plot()"
      ],
      "id": "IKwwWvz_piS5"
    },
    {
      "cell_type": "markdown",
      "metadata": {
        "id": "Bn9BTT20p_v9"
      },
      "source": [
        "#### Exercise\n"
      ],
      "id": "Bn9BTT20p_v9"
    },
    {
      "cell_type": "markdown",
      "metadata": {
        "id": "xIrjlZxsqT4D"
      },
      "source": [
        "\n",
        "What would be the parameters to use in the `savogol_filter()` method to mimic `smooth()`?\n",
        "\n",
        "Write a code to check your answer "
      ],
      "id": "xIrjlZxsqT4D"
    },
    {
      "cell_type": "markdown",
      "metadata": {
        "id": "Vl58up2Vqb14"
      },
      "source": [
        "### 6.2. Derivatives\n"
      ],
      "id": "Vl58up2Vqb14"
    },
    {
      "cell_type": "markdown",
      "metadata": {
        "id": "CtVAKFysqwRn"
      },
      "source": [
        "\n",
        "Derivatives - particularly second derivatives - are useful tu determine peak positions, specially when shoulders are present."
      ],
      "id": "CtVAKFysqwRn"
    },
    {
      "cell_type": "code",
      "execution_count": null,
      "metadata": {
        "id": "cCr2kR1_sKWj"
      },
      "outputs": [],
      "source": [
        "D_l = D[1:5, 1900.:1300.] \n",
        "D_der = D_l.savgol_filter(window_length=25, deriv=2, polyorder=2)\n",
        "\n",
        "_ = D_l.plot()\n",
        "_ = D_der.plot()"
      ],
      "id": "cCr2kR1_sKWj"
    },
    {
      "cell_type": "markdown",
      "metadata": {
        "id": "BEzMaWwB8-xl"
      },
      "source": [
        "## 7 Peak integration\n",
        "\n"
      ],
      "id": "BEzMaWwB8-xl"
    },
    {
      "cell_type": "markdown",
      "metadata": {
        "id": "h4Wzy4nj9Rb2"
      },
      "source": [
        "Here we learn how to find peak maxima and determine peak areas with spectrochempy. "
      ],
      "id": "h4Wzy4nj9Rb2"
    },
    {
      "cell_type": "code",
      "execution_count": null,
      "metadata": {
        "id": "da3Pyx7X9qh0"
      },
      "outputs": [],
      "source": [
        "D_m = (D - D[-1])[:, 1750.0:1550.0]\n",
        "_ = D_m.plot()"
      ],
      "id": "da3Pyx7X9qh0"
    },
    {
      "cell_type": "markdown",
      "metadata": {
        "id": "A1A9i98J-m26"
      },
      "source": [
        "We need first to define and correct the baseline (see above for details)"
      ],
      "id": "A1A9i98J-m26"
    },
    {
      "cell_type": "code",
      "execution_count": null,
      "metadata": {
        "id": "-87fNLfb-mMh"
      },
      "outputs": [],
      "source": [
        "blc = scp.BaselineCorrection(D_m)\n",
        "ranges = (\n",
        "    [1750.0, 1700.0],\n",
        "    [1600.0, 1550.0])  # define  regions where we want the baseline to reach zero.\n",
        "D_mc = blc.compute(*ranges, order=2)  # compute the corrected NDDataset\n",
        "_ = D_mc.plot() \n"
      ],
      "id": "-87fNLfb-mMh"
    },
    {
      "cell_type": "markdown",
      "metadata": {
        "id": "z-IhlLXjBkWS"
      },
      "source": [
        "To integrate each spectrum on the full range, we can use the `simps` (simpson integration)  or `trapz` (trapezoid integration) method of a NDDataset. Both give in general very close results."
      ],
      "id": "z-IhlLXjBkWS"
    },
    {
      "cell_type": "code",
      "execution_count": null,
      "metadata": {
        "id": "9-MBhRL_B4JW"
      },
      "outputs": [],
      "source": [
        "areas = D_mc.trapz()\n",
        "_ = areas.plot()"
      ],
      "id": "9-MBhRL_B4JW"
    },
    {
      "cell_type": "markdown",
      "metadata": {
        "id": "N2eAiEVYChYM"
      },
      "source": [
        "## 8 Principal component analysis"
      ],
      "id": "N2eAiEVYChYM"
    },
    {
      "cell_type": "markdown",
      "metadata": {
        "id": "agymhZobDag_"
      },
      "source": [
        "Here we will learn how to use PCA to estimate the minimum number of species to consider for a correct modelling of the spectra. We will work on the 1900-1300 region whare we can expect bands from water and ammonia). "
      ],
      "id": "agymhZobDag_"
    },
    {
      "cell_type": "code",
      "execution_count": null,
      "metadata": {
        "id": "-LW3Dit_DPUO"
      },
      "outputs": [],
      "source": [
        "D_n = (D - D[-1])[:, 1750.:1300.]\n",
        "D_n.plot()"
      ],
      "id": "-LW3Dit_DPUO"
    },
    {
      "cell_type": "code",
      "execution_count": null,
      "metadata": {
        "id": "kkbc-L9LE2bD"
      },
      "outputs": [],
      "source": [
        "blc = scp.BaselineCorrection(D_n)\n",
        "ranges = 1750.0, 1560., 1300.  # define  regions where we want the baseline to reach zero.\n",
        "D_nc = blc.compute(ranges, order=3)  # compute the corrected NDDataset\n",
        "_ = D_nc.plot() \n"
      ],
      "id": "kkbc-L9LE2bD"
    },
    {
      "cell_type": "markdown",
      "metadata": {
        "id": "XyHeYdDHHsXa"
      },
      "source": [
        "PCA is widely ised in data science to reduce datasets to a lower dimensionality by factorising the dataset into score ($S$) loading ($L^T$) matrices of of a limited number of components and minimize the error E. \n",
        "\n",
        "$$ D = S \\, L^T + E$$\n",
        "\n",
        "The choice of the correct nuumber of components is a delicate matter:; it can be based on:\n",
        "- examination of the explaine variance\n",
        "- examination of the scores and loadings\n",
        "- comparison of the experilmental vs. reconstructed dataset\n",
        "\n",
        "L'et's first make a PCA and exaline the \"figures of merit\":"
      ],
      "id": "XyHeYdDHHsXa"
    },
    {
      "cell_type": "code",
      "execution_count": null,
      "metadata": {
        "id": "k0IpN26sDFRX"
      },
      "outputs": [],
      "source": [
        "pca = scp.PCA(D_nc)\n",
        "pca.printev(n_pc=5)\n"
      ],
      "id": "k0IpN26sDFRX"
    },
    {
      "cell_type": "markdown",
      "metadata": {
        "id": "0dZRiZYEJk9y"
      },
      "source": [
        "In spectroscopy, the first component always explains a huge part of the variance (here 98.257%). But this does not mean that the reconstruction will be satisfactory with a single PC !\n",
        "\n",
        "Let’s look at the score and loading matrices:"
      ],
      "id": "0dZRiZYEJk9y"
    },
    {
      "cell_type": "code",
      "execution_count": null,
      "metadata": {
        "id": "CQluvW4qLRwP"
      },
      "outputs": [],
      "source": [
        "S, LT = pca.reduce(n_pc=5)\n",
        "_ = S.T.plot()\n",
        "_ = LT.plot()"
      ],
      "id": "CQluvW4qLRwP"
    },
    {
      "cell_type": "markdown",
      "metadata": {
        "id": "O8s5I8giLXQ4"
      },
      "source": [
        "The loadings are the weights of each wavenumber in a given PC (so they have the same dimension as a spectrum) and the scores represent the coordinates of each spectrun on the corresponding principal component (PC) (so they their length is the lumber of spectra). But despite their dimensions, scores and loadings are not \"abstract concentration profiles\" or \"abstract spectra\" ! \n",
        "\n",
        "Still, the contribution of each PC to the spectra can be obtained by the matrix multiplication of its score and loading. For instance for the first component:"
      ],
      "id": "O8s5I8giLXQ4"
    },
    {
      "cell_type": "code",
      "execution_count": null,
      "metadata": {
        "id": "PHdF5SnGNj1X"
      },
      "outputs": [],
      "source": [
        "PC_1 = scp.dot(S[:,0], LT [0,])\n",
        "_ = PC_1.plot()"
      ],
      "id": "PHdF5SnGNj1X"
    },
    {
      "cell_type": "markdown",
      "metadata": {
        "id": "pPM4EU0KO7F1"
      },
      "source": [
        "As seen above the loadings have similar amplitudes, so the contribution of each PC to the spectra can be estimates by looking at the amplitude of the Scores. Visual inpection of the scores suggest that no more than 3 components are required. \n",
        "Deciding whether 2 or 3 components are required is a matter of choice and knowledge of the system. Comparing reconstructed and experimental datasets can also help in the decision."
      ],
      "id": "pPM4EU0KO7F1"
    },
    {
      "cell_type": "code",
      "execution_count": null,
      "metadata": {
        "id": "8J_CU2rrKLLQ"
      },
      "outputs": [],
      "source": [
        "_ = pca.plotmerit(n_pc=2)\n",
        "_ = pca.plotmerit(n_pc=3)"
      ],
      "id": "8J_CU2rrKLLQ"
    },
    {
      "cell_type": "markdown",
      "metadata": {
        "id": "jrCIJvkuKUxc"
      },
      "source": [
        "## 9 MCR-ALS\n"
      ],
      "id": "jrCIJvkuKUxc"
    },
    {
      "cell_type": "markdown",
      "metadata": {
        "id": "uOFsa1O1GaSk"
      },
      "source": [
        "MCR-ALS (standing for Multivariate Curve Resolution - Alternating Least Squares) is a popular method for resolving a set (or several sets) of spectra $X$ of an evolving mixture (or a set of mixtures) into the spectra $S^T$ of 'pure'species and their concentration profiles $C$. In terms of matrix equation:\n",
        "\n",
        "$$ X = C S^T + E $$\n",
        "\n",
        "While the equations are similar to PCA, here we try to obtain chemically/spectroscopically relevant concentrations and spectrizcopic profiles.\n",
        "\n",
        "The optimization of the MCR equation above requires the input of a guess for either the concentration matrix $C_0$ or the spectra matrix $S^T_0$. Given the data matrix $X$, the lacking initial matrix ($S^T_0$ or $C_0$,\n",
        "respectively) is computed by:\n",
        "$$ S^T_0 = \\left( C_0^TC_0 \\right)^{-1} C_0^T X $$\n",
        "or\n",
        "$$ C_0 = X {S^T_0}^T  \\left( S_0^T {S_0^T}^T \\right)^{-1} $$\n",
        "\n",
        "The ALS algorithm allows applying soft or hard constraints (e.g., non negativity, unimodality, equality to a given profile to the spectra or concentration profiles of pure species. This property makes MCR-ALS an extremely flexible and powerful method. \n",
        "\n"
      ],
      "id": "uOFsa1O1GaSk"
    },
    {
      "cell_type": "markdown",
      "source": [
        "### Trial on the 1750-1300 cm$^{-1}$ range with two components"
      ],
      "metadata": {
        "id": "bU2l8GDaI9Bz"
      },
      "id": "bU2l8GDaI9Bz"
    },
    {
      "cell_type": "markdown",
      "source": [
        "If we consider two components, their consentration profiles can be guessed using the absorbances at 1644 and 1430 cm$^{-1}$, respectively:"
      ],
      "metadata": {
        "id": "RX-7ul_qI9ST"
      },
      "id": "RX-7ul_qI9ST"
    },
    {
      "cell_type": "code",
      "execution_count": null,
      "metadata": {
        "id": "GFFId6iHG1a1"
      },
      "outputs": [],
      "source": [
        "# ## guess pure spectra \n",
        "\n",
        "c1 = D_nc[:,1644.] / D_nc[:,1644.].max() \n",
        "c2 = D_nc[:,1430.] / D_nc[:,1430.].max()\n",
        "\n",
        "C0 = scp.concatenate(c1, c2, dims='x')\n",
        "C0.T.plot(title=\"Guess concentration profile\")"
      ],
      "id": "GFFId6iHG1a1"
    },
    {
      "cell_type": "code",
      "execution_count": null,
      "metadata": {
        "id": "WkebO70ZHDGo"
      },
      "outputs": [],
      "source": [
        "scp.set_loglevel(\"INFO\")\n",
        "mcr = scp.MCRALS(D_nc, C0)"
      ],
      "id": "WkebO70ZHDGo"
    },
    {
      "cell_type": "markdown",
      "metadata": {
        "id": "CLlLS9uFHDi4"
      },
      "source": [
        "The optimization has converged within few iterations. The figures reported for each iteration are defined as follows:\n",
        "\n",
        "- 'Error/PCA' is the standard deviation of the residuals with respect to data reconstructed by a PCA with as many\n",
        "components as pure species (2 in this example),\n",
        "- 'Error/exp': is the standard deviation of the residuals with respect to the experimental data X,\n",
        "- '%change': is the percent change of 'Error/exp' between 2 iterations\n",
        "\n",
        "The default is to stop when this %change between two iteration is negative (so that the solution is improving),\n",
        "but with an absolute value lower than 0.1% (so that the improvement is considered negligible). \n",
        "\n",
        "Now we can examine the C and St matrices:"
      ],
      "id": "CLlLS9uFHDi4"
    },
    {
      "cell_type": "code",
      "execution_count": null,
      "metadata": {
        "id": "BbAoYRB3UKaP"
      },
      "outputs": [],
      "source": [
        "_ = mcr.C.T.plot()\n",
        "_ = mcr.St.plot()"
      ],
      "id": "BbAoYRB3UKaP"
    },
    {
      "cell_type": "markdown",
      "metadata": {
        "id": "HCsd481yGqA4"
      },
      "source": [
        "Examinatioon of the spectra matrix shows that MRC-ALS leads to spectra with twa stes of bands.  \n",
        "And look at the quality (or not...) of the reconstruction:"
      ],
      "id": "HCsd481yGqA4"
    },
    {
      "cell_type": "code",
      "execution_count": null,
      "metadata": {
        "id": "aL_ukiSLUwi4"
      },
      "outputs": [],
      "source": [
        "_ = mcr.plotmerit()"
      ],
      "id": "aL_ukiSLUwi4"
    },
    {
      "cell_type": "markdown",
      "source": [
        "The residuals (in red in the figure above) can be computed and examined more closely:"
      ],
      "metadata": {
        "id": "uKocP7YkAhBC"
      },
      "id": "uKocP7YkAhBC"
    },
    {
      "cell_type": "code",
      "source": [
        "residuals = D_nc - mcr.reconstruct()\n",
        "_ = residuals.plot()"
      ],
      "metadata": {
        "id": "ChTqom4cBGR_"
      },
      "id": "ChTqom4cBGR_",
      "execution_count": null,
      "outputs": []
    },
    {
      "cell_type": "markdown",
      "source": [
        "These residuals do not correspond to random noise. They can result from band shift or broadening.\n",
        "Whether such features should be considered as indicative of new species and require a 3- or 4- species model goes beyond the technical objectives of this introductory tutorial... and requires knowledge on the chemistry and spectroscopic features of the system...\n",
        "\n",
        "The bands at 1660-1640 and 1500-1400 cm-1 actually correspond to water $\\delta$(OH)) and ammonium $\\delta$(NH) modes, respectively. The concentration profiles of these species are strongly correlated on the `y` dimension: all species are desorbing more or less simultaneously. The co-called \"pure species\" concentration and spectral profiles provided by MCR-ALS are thus linear combinations of water and ammonium...\n",
        "\n",
        "It is possible to impose a monotonic constraint on the spectra profiles:"
      ],
      "metadata": {
        "id": "zGKEZgN3BHnc"
      },
      "id": "zGKEZgN3BHnc"
    },
    {
      "cell_type": "code",
      "source": [
        "mcr2 = scp.MCRALS(D_nc, C0, unimodSpec=[0,1])\n",
        "_ = mcr2.C.T.plot()\n",
        "_ = mcr2.St.plot()\n",
        "_ = mcr2.plotmerit()"
      ],
      "metadata": {
        "id": "LaM3InPj_B5o"
      },
      "id": "LaM3InPj_B5o",
      "execution_count": null,
      "outputs": []
    },
    {
      "cell_type": "markdown",
      "source": [
        "The plots above show that indeed the spectra of water and ammonium have been decorrelated... but at the price of very large residuals. This is because - as you might have already guessed by inspecting the spectra - both water and ammonium spectra result from 2 contributions. \n",
        "\n",
        "Because of the strong correlations between concentrations and spectral profiles, it is preferable to use a \"divide and conquer\" approach by modeling independently water and ammonia spectra. "
      ],
      "metadata": {
        "id": "IBsqbjR9_UW6"
      },
      "id": "IBsqbjR9_UW6"
    },
    {
      "cell_type": "markdown",
      "source": [
        "### $\\delta$(OH) range with two components"
      ],
      "metadata": {
        "id": "ij9d2nVVJ7dF"
      },
      "id": "ij9d2nVVJ7dF"
    },
    {
      "cell_type": "markdown",
      "source": [
        ""
      ],
      "metadata": {
        "id": "6_XGT650J7jL"
      },
      "id": "6_XGT650J7jL"
    },
    {
      "cell_type": "code",
      "source": [
        "D_w = D_nc[:, :1575.0]\n",
        "_ = D_w.plot()"
      ],
      "metadata": {
        "id": "mT2K3ORdBbDj"
      },
      "id": "mT2K3ORdBbDj",
      "execution_count": null,
      "outputs": []
    },
    {
      "cell_type": "markdown",
      "source": [
        "We see that the firts component (maximum at ~1644 cm$^{-1}$) evolves in spectra #1-#6, while the second one disappears after. This sequantial evolution can be used to guess the corresponding spectra, which we normalize by the area (euclidian norm):"
      ],
      "metadata": {
        "id": "r8b72D_mBtq1"
      },
      "id": "r8b72D_mBtq1"
    },
    {
      "cell_type": "code",
      "source": [
        "# ## guess pure spectra \n",
        "\n",
        "s_a = D_w[0] - D_w[5]\n",
        "s_a /= s_a.trapz().data    # note: we use the data attribute to keep absorbance unuts\n",
        "s_b = D_w[5] / D_w[5].trapz().data\n",
        "\n",
        "S0_w = scp.concatenate(s_a, s_b, dims='y')\n",
        "_ = S0_w.plot() "
      ],
      "metadata": {
        "id": "m-rBkrQamgfT"
      },
      "id": "m-rBkrQamgfT",
      "execution_count": null,
      "outputs": []
    },
    {
      "cell_type": "markdown",
      "source": [
        "We see above how strongly overlapped are the two spectra.\n",
        "\n",
        "Now we can proceed to the MCR-ALS modeling:"
      ],
      "metadata": {
        "id": "92O1I1oyDNvi"
      },
      "id": "92O1I1oyDNvi"
    },
    {
      "cell_type": "code",
      "source": [
        "mcr_w = scp.MCRALS(D_w, S0_w)\n",
        "_ = mcr_w.C.T.plot()\n",
        "_ = mcr_w.St.plot()\n",
        "_ = mcr_w.plotmerit()"
      ],
      "metadata": {
        "id": "J7Tbbh0Xninj"
      },
      "id": "J7Tbbh0Xninj",
      "execution_count": null,
      "outputs": []
    },
    {
      "cell_type": "markdown",
      "source": [
        "We see how fast the convergence was reached, and how this part of the spectrum is now correctly modeled. The concentration profiles clearly show - as couild be also guessed from the experimental spectra - that the first species desorbs fastly while the second is much mode stable. \n",
        "\n",
        "The contribution of a given species on the experimentla spectra can be obtained by multiplying its concentration profile by its spectrum: "
      ],
      "metadata": {
        "id": "r282e4Xbs49c"
      },
      "id": "r282e4Xbs49c"
    },
    {
      "cell_type": "code",
      "source": [
        "w1 = scp.dot(mcr_w.C[:,0], mcr_w.St[0, :])\n",
        "ax = w1.plot()\n",
        "\n",
        "w2 = scp.dot(mcr_w.C[:,1], mcr_w.St[1, :])\n",
        "(w2 + 1.5).plot(clear=False)\n",
        "\n",
        "ax.set_ylim(0, 2.0)"
      ],
      "metadata": {
        "id": "KvMUsFeSGNfR"
      },
      "id": "KvMUsFeSGNfR",
      "execution_count": null,
      "outputs": []
    },
    {
      "cell_type": "markdown",
      "source": [
        "### Exercise: $\\delta$(NH) range with two components"
      ],
      "metadata": {
        "id": "jZ6eQr5xKO0B"
      },
      "id": "jZ6eQr5xKO0B"
    },
    {
      "cell_type": "markdown",
      "source": [
        "Extract the pure spectra and concentrations profiles of ammonium species using MCR-ALS..."
      ],
      "metadata": {
        "id": "fCsA4CZcIee1"
      },
      "id": "fCsA4CZcIee1"
    },
    {
      "cell_type": "markdown",
      "source": [
        "![image.png](data:image/png;base64,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)"
      ],
      "metadata": {
        "id": "JvfK0emvED41"
      },
      "id": "JvfK0emvED41"
    }
  ],
  "metadata": {
    "colab": {
      "collapsed_sections": [
        "877e5bcd-db2d-47d8-8886-b49d8294e431",
        "8pXDO_krjtSz",
        "1628868a-f42a-43be-a848-783b02571405",
        "8a2b7dcf-3b72-4968-8e5d-2f73bf41207e",
        "f1012b2d-eaf2-4855-9aed-3ace28a42f83",
        "S-uX_8sDj93O",
        "WgCIYu6imEAP",
        "KOy9LK4fmbQW",
        "bIPXeUrBo4qQ",
        "Bn9BTT20p_v9",
        "Vl58up2Vqb14"
      ],
      "name": "spectrocat_2022.ipynb",
      "provenance": [],
      "toc_visible": true,
      "include_colab_link": true
    },
    "kernelspec": {
      "display_name": "Python 3 (ipykernel)",
      "language": "python",
      "name": "python3"
    },
    "language_info": {
      "codemirror_mode": {
        "name": "ipython",
        "version": 3
      },
      "file_extension": ".py",
      "mimetype": "text/x-python",
      "name": "python",
      "nbconvert_exporter": "python",
      "pygments_lexer": "ipython3",
      "version": "3.8.13"
    }
  },
  "nbformat": 4,
  "nbformat_minor": 5
}