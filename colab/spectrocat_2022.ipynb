{
  "cells": [
    {
      "cell_type": "markdown",
      "metadata": {
        "id": "view-in-github",
        "colab_type": "text"
      },
      "source": [
        "<a href=\"https://colab.research.google.com/github/spectrochempy/spectrochempy_tutorials/blob/main/colab/spectrocat_2022.ipynb\" target=\"_parent\"><img src=\"https://colab.research.google.com/assets/colab-badge.svg\" alt=\"Open In Colab\"/></a>"
      ]
    },
    {
      "cell_type": "markdown",
      "source": [
        "<font color='green' size='5'> Spectrocat 2022: Process and analyse IR Data</font> \n",
        "\n",
        "This tutorial shows how to handle and process spectroscopic data with the python API **SpectroChemPy** (nicknamed scpy) and **Google Colab**. \n",
        "\n",
        "SpectroChemPy is not pre-installed in Colab. It is therefore necessary to install it before using it.\n",
        "\n",
        "To do this, we execute the following shell command:"
      ],
      "metadata": {
        "id": "oECcBS0R7xYB"
      },
      "id": "oECcBS0R7xYB"
    },
    {
      "cell_type": "code",
      "execution_count": null,
      "metadata": {
        "id": "ogMoVo_Dfg3B"
      },
      "outputs": [],
      "source": [
        "! pip install spectrochempy &>> log\n",
        "exit()"
      ],
      "id": "ogMoVo_Dfg3B"
    },
    {
      "cell_type": "markdown",
      "metadata": {
        "id": "f80s0x2Bhxdg"
      },
      "source": [
        "## 1. Import spectrochempy and load data\n"
      ],
      "id": "f80s0x2Bhxdg"
    },
    {
      "cell_type": "markdown",
      "metadata": {
        "id": "Q-eztK1hh3L9"
      },
      "source": [
        "First, is it required to ``import spectrochempy as scp`` in the current namespace, so that all spectrochempy commands will be called as ``scp.method(<method parameters>)``. We also import other libraries for this tutorial "
      ],
      "id": "Q-eztK1hh3L9"
    },
    {
      "cell_type": "code",
      "execution_count": null,
      "metadata": {
        "id": "028d6a21-5a6a-4970-a4a5-2a8926cba538"
      },
      "outputs": [],
      "source": [
        "import spectrochempy as scp\n",
        "import numpy as np"
      ],
      "id": "028d6a21-5a6a-4970-a4a5-2a8926cba538"
    },
    {
      "cell_type": "markdown",
      "metadata": {
        "id": "eb07db81-df86-483c-9972-8f3a4709d712"
      },
      "source": [
        "For this tutorial We will load a dataset which was recorded during thecremoval of ammonia from a NH4-Y zeolite:"
      ],
      "id": "eb07db81-df86-483c-9972-8f3a4709d712"
    },
    {
      "cell_type": "code",
      "execution_count": null,
      "metadata": {
        "id": "c17fc82e-bb04-46f6-b3a1-905ca2643d97"
      },
      "outputs": [],
      "source": [
        "D = scp.read_omnic(\"irdata/nh4y-activation.spg\")\n",
        "D"
      ],
      "id": "c17fc82e-bb04-46f6-b3a1-905ca2643d97"
    },
    {
      "cell_type": "markdown",
      "metadata": {
        "id": "3fe6dc11-2189-4758-8ffc-5621cc2c95b2"
      },
      "source": [
        "## 2. Description od the NDDsataset\n",
        "\n",
        "\n",
        "\n"
      ],
      "id": "3fe6dc11-2189-4758-8ffc-5621cc2c95b2"
    },
    {
      "cell_type": "markdown",
      "metadata": {
        "id": "kPtFK7BGhcfP"
      },
      "source": [
        "As you can see above, the spectra and their meta have been imported as a `NDDataset`, a python Class that has been developed to handle data (absorbances) and metadata (title, history, etc...), and stored in `D`.\n",
        "\n",
        "The main attributes of the NDDataset displayed above are detailed in the following.\n",
        "- `name` is the name of the group of spectra as it appears in the .spg file. OMNIC sets this name to the .spg filename used at the creation of the group. \n",
        "- `author` is that of the creator of the NDDataset The string is composed of the username and of the machine name as given by the OS: `username@machinename`. It can be accessed and changed using `D.author`.\n",
        "- `created` is the creation date of the NDDataset (again not that of the .spg file). It can be accessed (or even changed) using `D.created`.\n",
        "- `description` indicates the complete pathname of the .spg file. As the pathname is also given in the history (below), it can be a good practice to give a self explaining description of the group, for instance:"
      ],
      "id": "kPtFK7BGhcfP"
    },
    {
      "cell_type": "code",
      "execution_count": null,
      "metadata": {
        "id": "d36ecbc0-0d28-4588-98dd-868167224e8a"
      },
      "outputs": [],
      "source": [
        "D.description = \"activation of NH4-Y zeolite\"\n",
        "D.description"
      ],
      "id": "d36ecbc0-0d28-4588-98dd-868167224e8a"
    },
    {
      "cell_type": "markdown",
      "metadata": {
        "id": "71f34e9f-c7aa-4c4f-9465-7ab077c27820"
      },
      "source": [
        "- `history` records changes made to the dataset. Here, right after its creation, it has been sorted by date (see below).\n",
        "\n",
        "Then come the attributes related to the data themselves:\n",
        "\n",
        "- `title` (not to be confused with the `name` of the dataset) describes the nature of data (here **absorbance**).\n",
        "- The numerical values ar accessed through the`data` attribute and the units throughout `units` attribute."
      ],
      "id": "71f34e9f-c7aa-4c4f-9465-7ab077c27820"
    },
    {
      "cell_type": "code",
      "execution_count": null,
      "metadata": {
        "id": "d5504ef3-8d72-4d77-a903-e6b522b5d4dd"
      },
      "outputs": [],
      "source": [
        "D.data"
      ],
      "id": "d5504ef3-8d72-4d77-a903-e6b522b5d4dd"
    },
    {
      "cell_type": "code",
      "execution_count": null,
      "metadata": {
        "id": "d22e6677-c5f3-494b-8d13-915d319afdaa"
      },
      "outputs": [],
      "source": [
        "print(D.units)"
      ],
      "id": "d22e6677-c5f3-494b-8d13-915d319afdaa"
    },
    {
      "cell_type": "markdown",
      "metadata": {
        "id": "Xxam6TUsgZaa"
      },
      "source": [
        "- `shape` is the same as the ndarray `shape` attribute and gives the shape of the data array, here 19 x 3112.\n",
        "\n",
        "Then come the attributes related to the dimensions of the dataset.\n",
        "\n",
        "- `x`: this dimension has one coordinate (a `Coord` object) made of 5549 the wavenumbers.\n"
      ],
      "id": "Xxam6TUsgZaa"
    },
    {
      "cell_type": "code",
      "execution_count": null,
      "metadata": {
        "id": "6e25ff37-5937-4d4c-b3ff-dcc05881b054"
      },
      "outputs": [],
      "source": [
        "D.x"
      ],
      "id": "6e25ff37-5937-4d4c-b3ff-dcc05881b054"
    },
    {
      "cell_type": "markdown",
      "metadata": {
        "id": "c15f9a1d-2964-4683-8e6b-9e91d8772c52"
      },
      "source": [
        "- `y`: this dimension contains:\n",
        "    - one coordinate made of the 19 acquisition timestamps\n",
        "    - two labels\n",
        "    - the acquisition date (UTC) of each spectrum\n",
        "    - the name of each spectrum."
      ],
      "id": "c15f9a1d-2964-4683-8e6b-9e91d8772c52"
    },
    {
      "cell_type": "code",
      "execution_count": null,
      "metadata": {
        "id": "24130feb-97b7-4be2-96d0-48446a35f1b6"
      },
      "outputs": [],
      "source": [
        "D.y"
      ],
      "id": "24130feb-97b7-4be2-96d0-48446a35f1b6"
    },
    {
      "cell_type": "markdown",
      "metadata": {
        "id": "be1abd72-9b30-43ff-8fbd-2fd163a94205"
      },
      "source": [
        "## 3. Handle Acquisition dates and `y` axis\n"
      ],
      "id": "be1abd72-9b30-43ff-8fbd-2fd163a94205"
    },
    {
      "cell_type": "markdown",
      "metadata": {
        "id": "A0khDi8XhouE"
      },
      "source": [
        "\n",
        "The acquisition timestamps are the *Unix times* of the acquisition, i.e. the time elapsed in seconds since the\n",
        "reference date of Jan 1st 1970, 00:00:00 UTC."
      ],
      "id": "A0khDi8XhouE"
    },
    {
      "cell_type": "code",
      "execution_count": null,
      "metadata": {
        "id": "cbfa65b7-5ff8-4cae-bb37-a3ac04e2f641"
      },
      "outputs": [],
      "source": [
        "D.y.values"
      ],
      "id": "cbfa65b7-5ff8-4cae-bb37-a3ac04e2f641"
    },
    {
      "cell_type": "markdown",
      "metadata": {
        "id": "9889353b-78d6-4e02-8c4a-fd38a353c229"
      },
      "source": [
        "As such these may be not convenient to use directly (they are currently in the order of 1.5 billion...)\n",
        "With this respect, it can be convenient to shift the origin of time coordinate to that of the 1st spectrum,\n",
        "which has the index `0`:"
      ],
      "id": "9889353b-78d6-4e02-8c4a-fd38a353c229"
    },
    {
      "cell_type": "code",
      "execution_count": null,
      "metadata": {
        "id": "407a0edf-02f6-4328-8351-cf398d13056b"
      },
      "outputs": [],
      "source": [
        "D.y = D.y - D.y[0]\n",
        "D.y.values"
      ],
      "id": "407a0edf-02f6-4328-8351-cf398d13056b"
    },
    {
      "cell_type": "markdown",
      "metadata": {
        "id": "8772c5fd-304a-4637-b12b-1afb57adc26c"
      },
      "source": [
        "It is also possible to use the ability of SpectroChemPy to handle unit changes. For this one can use the `to` or\n",
        "`ito` (inplace) methods.\n",
        "```ipython3\n",
        "val = val.to(some_units)\n",
        "val.ito(some_units)   # the same inplace\n",
        "```"
      ],
      "id": "8772c5fd-304a-4637-b12b-1afb57adc26c"
    },
    {
      "cell_type": "code",
      "execution_count": null,
      "metadata": {
        "id": "ff6cec8e-3700-4a39-9f8b-42ad719d2b82"
      },
      "outputs": [],
      "source": [
        "D.y.ito(\"minute\")\n",
        "D.y.values"
      ],
      "id": "ff6cec8e-3700-4a39-9f8b-42ad719d2b82"
    },
    {
      "cell_type": "markdown",
      "metadata": {
        "id": "6383ede2-5e11-4d8a-8798-5bf5b1d628ae"
      },
      "source": [
        "Finally, if for instance you want the `x` time axis to be shifted by 2 minutes, it is also very easy to do so:"
      ],
      "id": "6383ede2-5e11-4d8a-8798-5bf5b1d628ae"
    },
    {
      "cell_type": "code",
      "execution_count": null,
      "metadata": {
        "id": "43996237-425a-4fa8-aa0c-088d13964ba0"
      },
      "outputs": [],
      "source": [
        "D.y = D.y + 2\n",
        "D.y.values"
      ],
      "id": "43996237-425a-4fa8-aa0c-088d13964ba0"
    },
    {
      "cell_type": "markdown",
      "metadata": {
        "id": "eefbac4b-256e-4a3d-9a43-dedf31e0374f"
      },
      "source": [
        "## 4. Plotting ans slicing\n"
      ],
      "id": "eefbac4b-256e-4a3d-9a43-dedf31e0374f"
    },
    {
      "cell_type": "markdown",
      "metadata": {
        "id": "ZYC0A5Cvh_gY"
      },
      "source": [
        "### 4.1. Basic ploting\n"
      ],
      "id": "ZYC0A5Cvh_gY"
    },
    {
      "cell_type": "markdown",
      "metadata": {
        "id": "X1RY2WnDiVRw"
      },
      "source": [
        "Plots of the dataset can be obtained with the `plot()` method."
      ],
      "id": "X1RY2WnDiVRw"
    },
    {
      "cell_type": "code",
      "execution_count": null,
      "metadata": {
        "id": "4dc8b93e-b24b-4895-8faa-28e9b8a31487"
      },
      "outputs": [],
      "source": [
        "_ = D.plot()"
      ],
      "id": "4dc8b93e-b24b-4895-8faa-28e9b8a31487"
    },
    {
      "cell_type": "markdown",
      "metadata": {
        "id": "sB4WOc3BiYfQ"
      },
      "source": [
        "### 4.2 slicing"
      ],
      "id": "sB4WOc3BiYfQ"
    },
    {
      "cell_type": "markdown",
      "metadata": {
        "id": "I0Boqpr0imfl"
      },
      "source": [
        "#### Basic Slicing "
      ],
      "id": "I0Boqpr0imfl"
    },
    {
      "cell_type": "markdown",
      "metadata": {
        "id": "10072421-ddc5-4d46-96d9-e1f1c8604059"
      },
      "source": [
        "\n",
        "\n",
        "In python the slicing of a list or an array means taking elements from a given index\n",
        "(or set of indexes) to another index (or set of indexes).\n",
        "Slicing is specified using the colon operator `:` with a `from` and `to` index\n",
        "before and after the first column, and a `step` after the second column.\n",
        "Hence, a slice of the object `X` will be set as:\n",
        "\n",
        "    `X[from:to:step]`\n",
        "\n",
        "and will extend from the ‘from’ index, ends one item before the ‘to’ index\n",
        "and with an increment of `step`between each index. When not given the default\n",
        "values are respectively 0 (i.e. starts at the 1st index),\n",
        "length in the dimension (stops at the last index), and 1.\n",
        "\n",
        "Let's first illustrate the concept on a 1D example:"
      ],
      "id": "10072421-ddc5-4d46-96d9-e1f1c8604059"
    },
    {
      "cell_type": "markdown",
      "metadata": {
        "id": "JeALMz6DiSe6"
      },
      "source": [
        ""
      ],
      "id": "JeALMz6DiSe6"
    },
    {
      "cell_type": "code",
      "execution_count": null,
      "metadata": {
        "id": "16c755d0-045e-41eb-9c68-7a412d6ee7ae"
      },
      "outputs": [],
      "source": [
        "X = np.arange(10)  # generates a 1D array of 10 elements from 0 to 9\n",
        "print(X)\n",
        "print(X[2:5])  # selects all elements from 2 to 4\n",
        "print(X[::2])  # selects one out of two elements\n",
        "print(X[:-3])  # a negative index will be counted from the end of the array\n",
        "print(X[::-2]) # a negative step will slice backward, starting from 'to', ending at 'from'"
      ],
      "id": "16c755d0-045e-41eb-9c68-7a412d6ee7ae"
    },
    {
      "cell_type": "markdown",
      "metadata": {
        "id": "cfe96d3e-e22c-4cbc-820d-6a287f491169"
      },
      "source": [
        "The same applies to multidimensional arrays by indicating slices separated by commas:"
      ],
      "id": "cfe96d3e-e22c-4cbc-820d-6a287f491169"
    },
    {
      "cell_type": "code",
      "execution_count": null,
      "metadata": {
        "id": "257ae6bc-aece-4e66-a9e7-4bfc7e9d8e02"
      },
      "outputs": [],
      "source": [
        "X = np.random.rand(10, 10)  # generates a 10x10 array filled with random values\n",
        "print(X.shape)\n",
        "print(X[2:5, :].shape)  # slices along the 1st dimension, X[2:5,] is equivalent\n",
        "print(X[2:5, ::2].shape)  # same slice along 1st dimension and takes one 1 column out of two along the second\n"
      ],
      "id": "257ae6bc-aece-4e66-a9e7-4bfc7e9d8e02"
    },
    {
      "cell_type": "markdown",
      "metadata": {
        "id": "877e5bcd-db2d-47d8-8886-b49d8294e431"
      },
      "source": [
        "#### Slicing of NDDatasets\n"
      ],
      "id": "877e5bcd-db2d-47d8-8886-b49d8294e431"
    },
    {
      "cell_type": "markdown",
      "metadata": {
        "id": "hMKueYIdiwk_"
      },
      "source": [
        "\n",
        "The classical slicing, using integers, can be used. For innstance: But they require For instance, along the 1st dimension:\n"
      ],
      "id": "hMKueYIdiwk_"
    },
    {
      "cell_type": "code",
      "execution_count": null,
      "metadata": {
        "id": "350073b7-60c8-4657-86f4-f57d41c9a59f"
      },
      "outputs": [],
      "source": [
        "print(D[:4])  # selects the first four spectra\n",
        "print(D[-3:])  # selects the last three spectra\n",
        "print(D[::2])  # selects one spectrum out of 2"
      ],
      "id": "350073b7-60c8-4657-86f4-f57d41c9a59f"
    },
    {
      "cell_type": "markdown",
      "metadata": {
        "id": "ed26d403-6a43-4b1a-bd62-2b0e85593b3a"
      },
      "source": [
        "The spectroscopist is generally interested in a particular region of the spectrum, for instance, 4000-2000 cm$^{-1}$. \n",
        "\n",
        "A simple mechanism has been implemented in spectrochempy\n",
        "for this purpose: the use of floats instead of integers will slice the # NDDataset at the corresponding coordinates. For instance to select the 4000-2000 cm$^{-1}$ region:\n",
        "\n"
      ],
      "id": "ed26d403-6a43-4b1a-bd62-2b0e85593b3a"
    },
    {
      "cell_type": "code",
      "execution_count": null,
      "metadata": {
        "id": "2b16b23a-17bd-49b3-81bb-52dc184dec0b"
      },
      "outputs": [],
      "source": [
        "_ = D[:, 4000.0:2000.0:].plot()"
      ],
      "id": "2b16b23a-17bd-49b3-81bb-52dc184dec0b"
    },
    {
      "cell_type": "markdown",
      "metadata": {
        "id": "3b9a92ac-705e-4c05-965f-5879c55e31c2"
      },
      "source": [
        "The same mechanism can be used along the first dimension (`y`).\n",
        "For instance, to select and plot the same region and the spectra recorded between 80 and 180 minutes:"
      ],
      "id": "3b9a92ac-705e-4c05-965f-5879c55e31c2"
    },
    {
      "cell_type": "code",
      "execution_count": null,
      "metadata": {
        "id": "8c1f0560-88be-477f-9591-a752be573997"
      },
      "outputs": [],
      "source": [
        "_ = D[80.0:180.0, 4000.:3000.].plot()   # Note that a decimal point is enough to get a float"
      ],
      "id": "8c1f0560-88be-477f-9591-a752be573997"
    },
    {
      "cell_type": "markdown",
      "metadata": {
        "id": "40af1f39-c8dd-4a62-ac39-f0f48ba255e3"
      },
      "source": [
        "## 5. Baseline corrections\n"
      ],
      "id": "40af1f39-c8dd-4a62-ac39-f0f48ba255e3"
    },
    {
      "cell_type": "markdown",
      "metadata": {
        "id": "8pXDO_krjtSz"
      },
      "source": [
        "\n",
        "### 5.1 Background subtraction\n"
      ],
      "id": "8pXDO_krjtSz"
    },
    {
      "cell_type": "markdown",
      "metadata": {
        "id": "M5oQexJojuhz"
      },
      "source": [
        "\n",
        "Often, particularly for surface species, the baseline is first corrected by subtracting a reference spectrum. In this example, it could be, for instance, the last spectrum (index -1). Hence:"
      ],
      "id": "M5oQexJojuhz"
    },
    {
      "cell_type": "code",
      "execution_count": null,
      "metadata": {
        "id": "4fdb0b69-a5c8-45d0-9692-81c281522b2f"
      },
      "outputs": [],
      "source": [
        "Ddiff = D - D[-1]\n",
        "_ = Ddiff.plot()"
      ],
      "id": "4fdb0b69-a5c8-45d0-9692-81c281522b2f"
    },
    {
      "cell_type": "markdown",
      "metadata": {
        "id": "1628868a-f42a-43be-a848-783b02571405"
      },
      "source": [
        "### 5.2. Detrend\n",
        "\n"
      ],
      "id": "1628868a-f42a-43be-a848-783b02571405"
    },
    {
      "cell_type": "markdown",
      "metadata": {
        "id": "7iFWlPGlj4Hd"
      },
      "source": [
        "Other simple baseline corrections - often use in preprocessing prior chemometric analysis - constist in shifting the spectra or removing a linear trend. This is done using the `detrend()` method, which is a wrapper of the [detrend() method](https://docs.scipy.org/doc/scipy/reference/generated/scipy.signal.detrend.html) from the [# scipy.signal](https://docs.scipy.org/doc/scipy/reference/signal.html) module. \n",
        "\n",
        "Two types of trend can be used: `'linear'` (default) will subtract the linear trend of each spectrum, `'constant'` will subtract a constant value for each spectrum."
      ],
      "id": "7iFWlPGlj4Hd"
    },
    {
      "cell_type": "code",
      "execution_count": null,
      "metadata": {
        "id": "e2b8ca2c-707f-4976-b98c-d93fc4c1abe7"
      },
      "outputs": [],
      "source": [
        "_ = D.detrend().plot()"
      ],
      "id": "e2b8ca2c-707f-4976-b98c-d93fc4c1abe7"
    },
    {
      "cell_type": "code",
      "execution_count": null,
      "metadata": {
        "id": "9eab4cf9-d206-48b5-9dca-3163d2841cb2"
      },
      "outputs": [],
      "source": [
        "_ = D.detrend(type=\"constant\").plot()"
      ],
      "id": "9eab4cf9-d206-48b5-9dca-3163d2841cb2"
    },
    {
      "cell_type": "markdown",
      "metadata": {
        "id": "8a2b7dcf-3b72-4968-8e5d-2f73bf41207e"
      },
      "source": [
        "### 5.3. Advanced baseline correction\n",
        "\n",
        "\n"
      ],
      "id": "8a2b7dcf-3b72-4968-8e5d-2f73bf41207e"
    },
    {
      "cell_type": "markdown",
      "metadata": {
        "id": "UXTPKb84j_23"
      },
      "source": [
        "'Advanced' baseline correction basically consists for the user to choose:\n",
        "\n",
        "- spectral ranges which s/he considers as belonging to the baseline \n",
        "- the type of polynomial(s) used to model the baseline in and between these regions (keyword: `interpolation`) \n",
        "- the method used to apply the correction to spectra: sequentially to each spectrum, or using a multivariate approach (keyword: `method`).\n",
        "\n",
        "### Range selection\n",
        "\n",
        "Each spectral range is defined by a list of two values indicating the limits of the spectral ranges, e.g. `[4500., 3500.]` to\n",
        "select the 4500-3500 cm$^{-1}$ range. Note that the ordering has no importance and\n",
        "using `[3500.0, 4500.]` would lead to exactly the same result. It is also possible to formally pick a single\n",
        "wavenumber `3750.`.\n",
        "\n",
        "The first step is then to select the various regions that we expect to belong to the baseline"
      ],
      "id": "UXTPKb84j_23"
    },
    {
      "cell_type": "code",
      "execution_count": null,
      "metadata": {
        "id": "72241db4-3733-4550-8db6-9cc6f5ea84a4"
      },
      "outputs": [],
      "source": [
        "ranges = [5900.0, 5400.0], 4550.0, [4500.0, 4000.0], [2100.0, 2000.0], [1550.0, 1555.0]"
      ],
      "id": "72241db4-3733-4550-8db6-9cc6f5ea84a4"
    },
    {
      "cell_type": "markdown",
      "metadata": {
        "id": "7685b2d8-b084-454b-988b-a4313dae8a2d"
      },
      "source": [
        "After selection of the baseline ranges, the baseline correction can be made using a\n",
        "sequence of 2 commands:\n",
        "\n",
        "- Initialize an instance of BaselineCorrection\n",
        "- Compute baseline other the ranges"
      ],
      "id": "7685b2d8-b084-454b-988b-a4313dae8a2d"
    },
    {
      "cell_type": "code",
      "execution_count": null,
      "metadata": {
        "id": "d6f4f970-ab1e-41ff-927c-ddb5957c5032"
      },
      "outputs": [],
      "source": [
        "blc = scp.BaselineCorrection(D)\n",
        "Dcorr = blc.compute(ranges)\n",
        "_ = Dcorr.plot()"
      ],
      "id": "d6f4f970-ab1e-41ff-927c-ddb5957c5032"
    },
    {
      "cell_type": "markdown",
      "metadata": {
        "id": "f1012b2d-eaf2-4855-9aed-3ace28a42f83"
      },
      "source": [
        "### Playing with the options\n",
        "\n",
        "Now your turn: the following code will baselinecorrect and display the results. \n",
        "Change all 'user defined parameters' required to baseline correct the last spectra in the OH region..."
      ],
      "id": "f1012b2d-eaf2-4855-9aed-3ace28a42f83"
    },
    {
      "cell_type": "code",
      "execution_count": null,
      "metadata": {
        "id": "d58d9176-07e9-452b-bc22-52345137a313"
      },
      "outputs": [],
      "source": [
        "# user defined parameters\n",
        "# -----------------------\n",
        "\n",
        "D_ = D[:,:] # time and wavenumber ranges   \n",
        "\n",
        "ranges = (\n",
        "    [5900.0, 5400.0],\n",
        "    [4000.0, 4500.0],\n",
        "    4550.0,\n",
        "    [2100.0, 2000.0],\n",
        "    [1550.0, 1555.0],\n",
        "    [1250.0, 1300.0],\n",
        "    [800.0, 850.0],\n",
        ")\n",
        "interpolation = \"polynomial\"  # choose 'polynomial' or 'pchip'\n",
        "order = 1  # only used for 'polynomial'\n",
        "method = \"sequential\"  # choose 'sequential' or 'multivariate'\n",
        "npc = 3  # only used for 'multivariate'\n",
        "\n",
        "# code: compute baseline, plot original and corrected NDDatasets and ranges\n",
        "# -------------------------------------------------------------------------\n",
        "\n",
        "blc = scp.BaselineCorrection(D_)\n",
        "D_corr = blc.compute(\n",
        "    *ranges, interpolation=interpolation, order=order, method=method, npc=npc\n",
        ")\n",
        "\n",
        "axes = scp.multiplot(\n",
        "    [D_, D_corr],\n",
        "    labels=[\"Original\", \"Baseline corrected\"],\n",
        "    sharex=True,\n",
        "    nrow=2,\n",
        "    ncol=1,\n",
        "    figsize=(7, 6),\n",
        "    dpi=96,\n",
        ")\n",
        "blc.show_regions(axes[\"axe21\"])\n"
      ],
      "id": "d58d9176-07e9-452b-bc22-52345137a313"
    },
    {
      "cell_type": "markdown",
      "metadata": {
        "id": "S-uX_8sDj93O"
      },
      "source": [
        "## 6. Smoothing and derivatives"
      ],
      "id": "S-uX_8sDj93O"
    },
    {
      "cell_type": "markdown",
      "metadata": {
        "id": "Pjxr0hjTlEYZ"
      },
      "source": [
        "Here, we will learn to smooth spectra along one dimension. L'et's first select a loisy part if the spectra "
      ],
      "id": "Pjxr0hjTlEYZ"
    },
    {
      "cell_type": "code",
      "execution_count": null,
      "metadata": {
        "id": "CvHck8UElmfT"
      },
      "outputs": [],
      "source": [
        "D_n = D[0:5, 3600.0:2800.0] \n",
        "_ = D_n.plot()"
      ],
      "id": "CvHck8UElmfT"
    },
    {
      "cell_type": "markdown",
      "metadata": {
        "id": "WgCIYu6imEAP"
      },
      "source": [
        "### 6.1 Smoothing"
      ],
      "id": "WgCIYu6imEAP"
    },
    {
      "cell_type": "markdown",
      "metadata": {
        "id": "KOy9LK4fmbQW"
      },
      "source": [
        "#### The `smooth()` method"
      ],
      "id": "KOy9LK4fmbQW"
    },
    {
      "cell_type": "markdown",
      "metadata": {
        "id": "z2yJGQvrmeOp"
      },
      "source": [
        "The `smooth()` method is adapted from the [\"Smoothing of a 1D signal\" code](\n",
        "https://scipy-cookbook.readthedocs.io/items/SignalSmooth.html) of the [Scipy cookbook](\n",
        "https://scipy-cookbook.readthedocs.io/). It is a (weighted)-moving average method and consist in the convolution of\n",
        "a window of a given length with the spectrum.\n",
        "\n",
        "In its simplest form - *i.e.* unweighted moving average - each absorbance at a given wavenumber of the smoothed\n",
        "spectrum is the average of the absorbance at the absorbance at the considered wavenumber and the N neighboring\n",
        "wavenumbers (*i.e.* N/2 before and N/2 after), hence the conventional use of an odd number of N+1 points to define\n",
        "the window length. For the points located at both end of the spectra, the extremities of the spectrum are mirrored\n",
        "beyond the initial limits to minimize boundary effects.\n",
        "\n",
        "When passed as is, i.e. `X.smooth()`, the method uses a moving average of 5 points:"
      ],
      "id": "z2yJGQvrmeOp"
    },
    {
      "cell_type": "code",
      "execution_count": null,
      "metadata": {
        "id": "KoJofmrEm1vU"
      },
      "outputs": [],
      "source": [
        "_ = D_n.smooth().plot()"
      ],
      "id": "KoJofmrEm1vU"
    },
    {
      "cell_type": "markdown",
      "metadata": {
        "id": "9kzzTatHnDfS"
      },
      "source": [
        "The following code compares the influence of the window size on the smoothing of the first spectrum of the NDDataset `X[0]`.\n"
      ],
      "id": "9kzzTatHnDfS"
    },
    {
      "cell_type": "code",
      "execution_count": null,
      "metadata": {
        "id": "qQF1JZU2nJFu"
      },
      "outputs": [],
      "source": [
        "spectra_list = [D_n[0],]\n",
        "labels = [\"Initial\", ]\n",
        "\n",
        "for i, length in enumerate([5, 11, 27, 51, 101, 201, 501]):\n",
        "    s = D_n[0].smooth(window_length=length)  # smooth\n",
        "    s += 0.1 * (1 + i)  # shift the absorbance by +0.1 a.u. with respect to previous iteration\n",
        "    spectra_list.append(s)\n",
        "    labels.append(f\"length: {length}\")\n",
        "\n",
        "D_s = scp.stack(spectra_list)\n",
        "_ = D_s.plot()"
      ],
      "id": "qQF1JZU2nJFu"
    },
    {
      "cell_type": "markdown",
      "metadata": {
        "id": "Qz1RCEKOolLR"
      },
      "source": [
        "For large windows, the spectrum is flattened out and distorted. When determining the optimum window length, one should thus consider the balance between noise removal and signal integrity: the larger the window length, the stronger the smoothing, but also the greater the chance to distort the spectrum."
      ],
      "id": "Qz1RCEKOolLR"
    },
    {
      "cell_type": "markdown",
      "metadata": {
        "id": "bIPXeUrBo4qQ"
      },
      "source": [
        "#### Savitzky-Golay algorithm:savgol_filter()"
      ],
      "id": "bIPXeUrBo4qQ"
    },
    {
      "cell_type": "markdown",
      "metadata": {
        "id": "y4zxlK2CpAZX"
      },
      "source": [
        "The second algorithm implemented in spectrochempy is the Savitzky-Golay filter which uses a polynomial interpolation in the moving window. A demonstrative illustration of the method can be found on the [Savitzky-Golay filter](https://en.wikipedia.org/wiki/Savitzky%E2%80%93Golay_filter) entry of Wikipedia.\n",
        "\n",
        "The function implemented in spectrochempy is a wrapper of the [savgol_filert() method](https://docs.scipy.org/doc/scipy/reference/generated/scipy.signal.savgol_filter.html) from the [scipy.signal](\n",
        "https://docs.scipy.org/doc/scipy/reference/signal.html) module. \n",
        "\n",
        "It not only used to smooth spectra but also to compute their successive derivatives. The latter are treated below. We focus here on the smoothing which is the default of the filter (default parameter: `deriv=0`).\n",
        "\n",
        "As for the `smooth()` method, it is a moving-window based method. Hence, the window length (`window_length` parameter) plays an equivalent role, except that it *must* be odd. Moreover, instead of choosing a window function,\n",
        "the user can choose the order of the polynomial used to fit the window data points (`polyorder`, default value: 0).\n",
        "The latter must be strictly smaller than the window size (so that the polynomial coefficients can be fully determined).\n",
        "\n",
        "The use of this method is illustrated below.  You can assess the impact of the window length and polynomial order: "
      ],
      "id": "y4zxlK2CpAZX"
    },
    {
      "cell_type": "code",
      "execution_count": null,
      "metadata": {
        "id": "IKwwWvz_piS5"
      },
      "outputs": [],
      "source": [
        "_ = D_n.savgol_filter(window_length=11, polyorder=6).plot()"
      ],
      "id": "IKwwWvz_piS5"
    },
    {
      "cell_type": "markdown",
      "metadata": {
        "id": "Bn9BTT20p_v9"
      },
      "source": [
        "#### Exercise\n"
      ],
      "id": "Bn9BTT20p_v9"
    },
    {
      "cell_type": "markdown",
      "metadata": {
        "id": "xIrjlZxsqT4D"
      },
      "source": [
        "\n",
        "What would be the parameters to use in the `savogol_filter()` method to mimic `smooth()`?\n",
        "\n",
        "Write a code to check your answer "
      ],
      "id": "xIrjlZxsqT4D"
    },
    {
      "cell_type": "markdown",
      "metadata": {
        "id": "Vl58up2Vqb14"
      },
      "source": [
        "### 6.2. Derivatives\n"
      ],
      "id": "Vl58up2Vqb14"
    },
    {
      "cell_type": "markdown",
      "metadata": {
        "id": "CtVAKFysqwRn"
      },
      "source": [
        "\n",
        "Derivatives - particularly second derivatives - are useful tu determine peak positions, specially when shouldes are present."
      ],
      "id": "CtVAKFysqwRn"
    },
    {
      "cell_type": "code",
      "execution_count": null,
      "metadata": {
        "id": "cCr2kR1_sKWj"
      },
      "outputs": [],
      "source": [
        "D_l = D[1:5, 1900.:1300.] \n",
        "D_der = D_l.savgol_filter(window_length=25, deriv=2, polyorder=2)\n",
        "\n",
        "_ = D_l.plot()\n",
        "_ = D_der.plot()"
      ],
      "id": "cCr2kR1_sKWj"
    },
    {
      "cell_type": "markdown",
      "metadata": {
        "id": "BEzMaWwB8-xl"
      },
      "source": [
        "## 7. Peak integration\n",
        "\n"
      ],
      "id": "BEzMaWwB8-xl"
    },
    {
      "cell_type": "markdown",
      "metadata": {
        "id": "h4Wzy4nj9Rb2"
      },
      "source": [
        "Here we learn how to find peak maxima and determine peak areas with spectrochempy. "
      ],
      "id": "h4Wzy4nj9Rb2"
    },
    {
      "cell_type": "code",
      "execution_count": null,
      "metadata": {
        "id": "da3Pyx7X9qh0"
      },
      "outputs": [],
      "source": [
        "D_m = (D - D[-1])[:, 1750.0:1550.0]\n",
        "_ = D_m.plot()"
      ],
      "id": "da3Pyx7X9qh0"
    },
    {
      "cell_type": "markdown",
      "metadata": {
        "id": "A1A9i98J-m26"
      },
      "source": [
        "We need first to define and correct the baseline (see above for details)"
      ],
      "id": "A1A9i98J-m26"
    },
    {
      "cell_type": "code",
      "execution_count": null,
      "metadata": {
        "id": "-87fNLfb-mMh"
      },
      "outputs": [],
      "source": [
        "blc = scp.BaselineCorrection(D_m)\n",
        "ranges = (\n",
        "    [1750.0, 1700.0],\n",
        "    [1600.0, 1550.0])  # define  regions where we want the baseline to reach zero.\n",
        "D_mc = blc.compute(*ranges, order=2)  # compute the corrected NDDataset\n",
        "_ = D_mc.plot() \n"
      ],
      "id": "-87fNLfb-mMh"
    },
    {
      "cell_type": "markdown",
      "metadata": {
        "id": "UJ8NbCFdBlNC"
      },
      "source": [
        ""
      ],
      "id": "UJ8NbCFdBlNC"
    },
    {
      "cell_type": "markdown",
      "metadata": {
        "id": "z-IhlLXjBkWS"
      },
      "source": [
        "To integrate each spectrum on the full range, we can use the `simps` (simpson integration)  or `trapz` (trapezoid integration) method of a NDDataset. Both give in general very close results."
      ],
      "id": "z-IhlLXjBkWS"
    },
    {
      "cell_type": "code",
      "execution_count": null,
      "metadata": {
        "id": "9-MBhRL_B4JW"
      },
      "outputs": [],
      "source": [
        "areas = D_mc.trapz()\n",
        "_ = areas.plot()"
      ],
      "id": "9-MBhRL_B4JW"
    },
    {
      "cell_type": "markdown",
      "metadata": {
        "id": "N2eAiEVYChYM"
      },
      "source": [
        "## 8. Principal component analysis"
      ],
      "id": "N2eAiEVYChYM"
    },
    {
      "cell_type": "markdown",
      "metadata": {
        "id": "agymhZobDag_"
      },
      "source": [
        "Here we will learn how to use PCA to estimate the minimum number of species to consider for a correct modelling of the spectra. We will work on the 1900-1300 region whare we can expect bands from water and ammonia). "
      ],
      "id": "agymhZobDag_"
    },
    {
      "cell_type": "code",
      "execution_count": null,
      "metadata": {
        "id": "-LW3Dit_DPUO"
      },
      "outputs": [],
      "source": [
        "D_n = (D - D[-1])[:, 1750.:1300.]\n",
        "D_n.plot()"
      ],
      "id": "-LW3Dit_DPUO"
    },
    {
      "cell_type": "code",
      "execution_count": null,
      "metadata": {
        "id": "kkbc-L9LE2bD"
      },
      "outputs": [],
      "source": [
        "blc = scp.BaselineCorrection(D_n)\n",
        "ranges = 1750.0, 1560., 1300.  # define  regions where we want the baseline to reach zero.\n",
        "D_nc = blc.compute(ranges, order=3)  # compute the corrected NDDataset\n",
        "_ = D_nc.plot() \n"
      ],
      "id": "kkbc-L9LE2bD"
    },
    {
      "cell_type": "markdown",
      "metadata": {
        "id": "XyHeYdDHHsXa"
      },
      "source": [
        "PCA is widely ised in data science to reduce datasets to a lower dimensionality by factorising the dataset into score ($S$) loading ($L^T$) matrices of of a limited number of components and minimize the error E. \n",
        "\n",
        "$$ D = S \\, L^T + E$$\n",
        "\n",
        "The choice of the correct nuumber of components is a delicate matter:; it can be based on:\n",
        "- examination of the explaine variance\n",
        "- examination of the scores and loadings\n",
        "- comparison of the experilmental vs. reconstructed dataset\n",
        "\n",
        "L'et's first make a PCA and exaline the \"figures of merit\":"
      ],
      "id": "XyHeYdDHHsXa"
    },
    {
      "cell_type": "code",
      "execution_count": null,
      "metadata": {
        "id": "k0IpN26sDFRX"
      },
      "outputs": [],
      "source": [
        "pca = scp.PCA(D_nc)\n",
        "pca.printev(n_pc=5)\n"
      ],
      "id": "k0IpN26sDFRX"
    },
    {
      "cell_type": "markdown",
      "metadata": {
        "id": "0dZRiZYEJk9y"
      },
      "source": [
        "In spectroscopy, the first component always explains a huge part of the variance (here 98.257%). But this does not mean that the reconstruction will be satisfactory with a single PC !\n",
        "\n",
        "Let’s look at the score and loading matrices:"
      ],
      "id": "0dZRiZYEJk9y"
    },
    {
      "cell_type": "code",
      "execution_count": null,
      "metadata": {
        "id": "CQluvW4qLRwP"
      },
      "outputs": [],
      "source": [
        "S, LT = pca.reduce(n_pc=5)\n",
        "_ = S.T.plot()\n",
        "_ = LT.plot()"
      ],
      "id": "CQluvW4qLRwP"
    },
    {
      "cell_type": "markdown",
      "metadata": {
        "id": "O8s5I8giLXQ4"
      },
      "source": [
        "The loadings are the weights of each wavenumber in a given PC (so they have the same dimension as a spectrum) and the scores represent the coordinates of each spectrun on the corresponding principal component (PC) (so they their length is the lumber of spectra). But despite their dimensions, scores and loadings are not \"abstract concentration profiles\" or \"abstract spectra\" ! \n",
        "\n",
        "Still, the contribution of each PC to the spectra can be obtained by the matrix multiplication of its score and loading. For instance for the first component:"
      ],
      "id": "O8s5I8giLXQ4"
    },
    {
      "cell_type": "code",
      "execution_count": null,
      "metadata": {
        "id": "PHdF5SnGNj1X"
      },
      "outputs": [],
      "source": [
        "PC_1 = scp.dot(S[:,0], LT [0,])\n",
        "_ = PC_1.plot()"
      ],
      "id": "PHdF5SnGNj1X"
    },
    {
      "cell_type": "markdown",
      "metadata": {
        "id": "pPM4EU0KO7F1"
      },
      "source": [
        "As seen above the loadings have similar amplitudes, so the contribution of each PC to the spectra can be estimates by looking at the amplitude of the Scores. Visual inpection of the scores suggest that no more than 3 components are required. \n",
        "Deciding whether 2 or 3 components are required is a matter of choice and knowledge of the system. Comparing reconstructed and experimental datasets can also help in the decision."
      ],
      "id": "pPM4EU0KO7F1"
    },
    {
      "cell_type": "code",
      "execution_count": null,
      "metadata": {
        "id": "8J_CU2rrKLLQ"
      },
      "outputs": [],
      "source": [
        "_ = pca.plotmerit(n_pc=2)\n",
        "_ = pca.plotmerit(n_pc=3)"
      ],
      "id": "8J_CU2rrKLLQ"
    },
    {
      "cell_type": "markdown",
      "metadata": {
        "id": "jrCIJvkuKUxc"
      },
      "source": [
        "## MCR-ALS\n"
      ],
      "id": "jrCIJvkuKUxc"
    },
    {
      "cell_type": "markdown",
      "metadata": {
        "id": "uOFsa1O1GaSk"
      },
      "source": [
        "MCR-ALS (standing for Multivariate Curve Resolution - Alternating Least Squares) is a popular method for resolving a set (or several sets) of spectra $X$ of an evolving mixture (or a set of mixtures) into the spectra $S^T$ of 'pure'species and their concentration profiles $C$. In terms of matrix equation:\n",
        "\n",
        "$$ X = C S^T + E $$\n",
        "\n",
        "While the equations are similar to PCA, here we try to obtain chemically/spectroscopically relevant concentrations and spectrizcopic profiles.\n",
        "\n",
        "The optimization of the MCR equation above requires the input of a guess for either the concentration matrix $C_0$ or the spectra matrix $S^T_0$. Given the data matrix $X$, the lacking initial matrix ($S^T_0$ or $C_0$,\n",
        "respectively) is computed by:\n",
        "$$ S^T_0 = \\left( C_0^TC_0 \\right)^{-1} C_0^T X $$\n",
        "or\n",
        "$$ C_0 = X {S^T_0}^T  \\left( S_0^T {S_0^T}^T \\right)^{-1} $$\n",
        "\n",
        "The ALS algorithm allows applying soft or hard constraints (e.g., non negativity, unimodality, equality to a given profile to the spectra or concentration profiles of pure species. This property makes MCR-ALS an extremely flexible and powerful method. \n",
        "\n",
        "If we consider two components, we can expect that absorbances at 1644 and 1430 cm-1 could provide a rough estilmate of theu concentration profiles:\n",
        "\n",
        "If we consider two components, we can expect that absorbances at 1644 and 1430 cm-1 could provide a rough estilmate of theu concentration profiles:"
      ],
      "id": "uOFsa1O1GaSk"
    },
    {
      "cell_type": "code",
      "execution_count": null,
      "metadata": {
        "id": "GFFId6iHG1a1"
      },
      "outputs": [],
      "source": [
        "# ## guess pure spectra \n",
        "\n",
        "c1 = D_nc[:,1644.] / D_nc[:,1644.].max() \n",
        "c2 = D_nc[:,1430.] / D_nc[:,1430.].max()\n",
        "\n",
        "C0 = scp.concatenate(c1, c2, dims='x')\n",
        "C0.T.plot(title=\"Guess concentration profiole\")"
      ],
      "id": "GFFId6iHG1a1"
    },
    {
      "cell_type": "code",
      "execution_count": null,
      "metadata": {
        "id": "WkebO70ZHDGo"
      },
      "outputs": [],
      "source": [
        "scp.set_loglevel(\"INFO\")\n",
        "mcr = scp.MCRALS(D_nc, C0)"
      ],
      "id": "WkebO70ZHDGo"
    },
    {
      "cell_type": "markdown",
      "metadata": {
        "id": "CLlLS9uFHDi4"
      },
      "source": [
        "The optimization has converged within few iterations. The figures reported for each iteration are defined as follows:\n",
        "\n",
        "- 'Error/PCA' is the standard deviation of the residuals with respect to data reconstructed by a PCA with as many\n",
        "components as pure species (2 in this example),\n",
        "- 'Error/exp': is the standard deviation of the residuals with respect to the experimental data X,\n",
        "- '%change': is the percent change of 'Error/exp' between 2 iterations\n",
        "\n",
        "The default is to stop when this %change between two iteration is negative (so that the solution is improving),\n",
        "but with an absolute value lower than 0.1% (so that the improvement is considered negligible). \n",
        "\n",
        "Now we can examine the C and St matrices:"
      ],
      "id": "CLlLS9uFHDi4"
    },
    {
      "cell_type": "code",
      "execution_count": null,
      "metadata": {
        "id": "BbAoYRB3UKaP"
      },
      "outputs": [],
      "source": [
        "_ = mcr.C.T.plot()\n",
        "_ = mcr.St.plot()"
      ],
      "id": "BbAoYRB3UKaP"
    },
    {
      "cell_type": "markdown",
      "metadata": {
        "id": "HCsd481yGqA4"
      },
      "source": [
        "And look at the quality (or not...) of the reconstruction:"
      ],
      "id": "HCsd481yGqA4"
    },
    {
      "cell_type": "code",
      "execution_count": null,
      "metadata": {
        "id": "aL_ukiSLUwi4"
      },
      "outputs": [],
      "source": [
        "_ = mcr.plotmerit()"
      ],
      "id": "aL_ukiSLUwi4"
    },
    {
      "cell_type": "markdown",
      "source": [
        "The residuals (is red in the figure above) can be computed and examined more closely:"
      ],
      "metadata": {
        "id": "uKocP7YkAhBC"
      },
      "id": "uKocP7YkAhBC"
    },
    {
      "cell_type": "code",
      "source": [
        "residuals = D_nc - mcr.reconstruct()\n",
        "_ = residuals.plot()"
      ],
      "metadata": {
        "id": "ChTqom4cBGR_"
      },
      "id": "ChTqom4cBGR_",
      "execution_count": null,
      "outputs": []
    },
    {
      "cell_type": "markdown",
      "source": [
        "A large part of these residuals probably result from band shift or broadening.\n",
        "Whether such features shoud be considered as indicative of new species and require a 3- or 4- species model goes beyond the obkjectives of this introductory tutorial..."
      ],
      "metadata": {
        "id": "zGKEZgN3BHnc"
      },
      "id": "zGKEZgN3BHnc"
    },
    {
      "cell_type": "markdown",
      "source": [
        "![thats-all-folks-banner.jpg](data:image/jpeg;base64,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)"
      ],
      "metadata": {
        "id": "SbDaG6rwI6wj"
      },
      "id": "SbDaG6rwI6wj"
    }
  ],
  "metadata": {
    "colab": {
      "collapsed_sections": [
        "877e5bcd-db2d-47d8-8886-b49d8294e431",
        "8pXDO_krjtSz",
        "1628868a-f42a-43be-a848-783b02571405",
        "8a2b7dcf-3b72-4968-8e5d-2f73bf41207e",
        "f1012b2d-eaf2-4855-9aed-3ace28a42f83",
        "S-uX_8sDj93O",
        "WgCIYu6imEAP",
        "KOy9LK4fmbQW",
        "bIPXeUrBo4qQ",
        "Bn9BTT20p_v9",
        "Vl58up2Vqb14"
      ],
      "name": "spectrocat_2022.ipynb",
      "provenance": [],
      "include_colab_link": true
    },
    "kernelspec": {
      "display_name": "Python 3 (ipykernel)",
      "language": "python",
      "name": "python3"
    },
    "language_info": {
      "codemirror_mode": {
        "name": "ipython",
        "version": 3
      },
      "file_extension": ".py",
      "mimetype": "text/x-python",
      "name": "python",
      "nbconvert_exporter": "python",
      "pygments_lexer": "ipython3",
      "version": "3.8.13"
    }
  },
  "nbformat": 4,
  "nbformat_minor": 5
}