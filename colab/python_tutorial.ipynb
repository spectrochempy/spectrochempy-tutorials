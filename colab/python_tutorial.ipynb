{
  "cells": [
    {
      "cell_type": "markdown",
      "metadata": {
        "id": "view-in-github",
        "colab_type": "text"
      },
      "source": [
        "<a href=\"https://colab.research.google.com/github/spectrochempy/spectrochempy_tutorials/blob/main/colab/python_tutorial.ipynb\" target=\"_parent\"><img src=\"https://colab.research.google.com/assets/colab-badge.svg\" alt=\"Open In Colab\"/></a>"
      ]
    },
    {
      "cell_type": "markdown",
      "id": "18e0214f",
      "metadata": {
        "id": "18e0214f"
      },
      "source": [
        "# Pyton Tutorial\n",
        "## Basic Examples\n",
        "### Numerical types"
      ]
    },
    {
      "cell_type": "code",
      "execution_count": null,
      "id": "1e26cc09",
      "metadata": {
        "id": "1e26cc09"
      },
      "outputs": [],
      "source": [
        "# integers\n",
        "1 + 8"
      ]
    },
    {
      "cell_type": "code",
      "execution_count": null,
      "id": "cf7368a0",
      "metadata": {
        "id": "cf7368a0"
      },
      "outputs": [],
      "source": [
        "# assign and change a variable\n",
        "a = 4     # a is an int\n",
        "a * 2.0   # multiplication with a float "
      ]
    },
    {
      "cell_type": "code",
      "execution_count": null,
      "id": "957b8aca",
      "metadata": {
        "id": "957b8aca"
      },
      "outputs": [],
      "source": [
        "# usage of print() and fstrings (python >3.6)\n",
        "b = -2.4 + 1\n",
        "print(f\"The value of b is {b}\")"
      ]
    },
    {
      "cell_type": "code",
      "execution_count": null,
      "id": "66f08f63",
      "metadata": {
        "id": "66f08f63"
      },
      "outputs": [],
      "source": [
        "# complex: real and img attributes\n",
        "c = a + 0.5j\n",
        "print(c.real)    \n",
        "print(c.imag)"
      ]
    },
    {
      "cell_type": "markdown",
      "id": "cc9bbacb",
      "metadata": {
        "id": "cc9bbacb"
      },
      "source": [
        "### Booleans, logical and comparison operators\n",
        "\n",
        "A boolean (`bool` type) is either `True` or `False`"
      ]
    },
    {
      "cell_type": "code",
      "execution_count": null,
      "id": "1ec11f4c",
      "metadata": {
        "id": "1ec11f4c"
      },
      "outputs": [],
      "source": [
        "a = True\n",
        "b = False"
      ]
    },
    {
      "cell_type": "markdown",
      "id": "096f746a",
      "metadata": {
        "id": "096f746a"
      },
      "source": [
        "Logical operators are used to combine boolean. Among them `and`, `or`, `not` "
      ]
    },
    {
      "cell_type": "code",
      "execution_count": null,
      "id": "b032a874",
      "metadata": {
        "id": "b032a874"
      },
      "outputs": [],
      "source": [
        "print(a and b)\n",
        "print(a or b)\n",
        "print(not a)"
      ]
    },
    {
      "cell_type": "markdown",
      "id": "f452165d",
      "metadata": {
        "id": "f452165d"
      },
      "source": [
        "Comparison operators compare objects and return a boolean"
      ]
    },
    {
      "cell_type": "code",
      "execution_count": null,
      "id": "99ab0df4",
      "metadata": {
        "id": "99ab0df4"
      },
      "outputs": [],
      "source": [
        "test = 3 > 4\n",
        "print(test)"
      ]
    },
    {
      "cell_type": "code",
      "execution_count": null,
      "id": "9ab9b1b9",
      "metadata": {
        "id": "9ab9b1b9"
      },
      "outputs": [],
      "source": [
        "3 * 2 == 6"
      ]
    },
    {
      "cell_type": "code",
      "execution_count": null,
      "id": "577ae5c5",
      "metadata": {
        "id": "577ae5c5"
      },
      "outputs": [],
      "source": [
        "print (5 >= 6)\n",
        "print (6 >= 6)\n",
        "print (7 >= 6)"
      ]
    },
    {
      "cell_type": "code",
      "execution_count": null,
      "id": "55430f3e",
      "metadata": {
        "id": "55430f3e"
      },
      "outputs": [],
      "source": [
        "2.5 < 10 or 5 > 1"
      ]
    },
    {
      "cell_type": "markdown",
      "id": "c2a57cb9",
      "metadata": {
        "id": "c2a57cb9"
      },
      "source": [
        "### Strings"
      ]
    },
    {
      "cell_type": "code",
      "execution_count": null,
      "id": "b5a57964",
      "metadata": {
        "id": "b5a57964"
      },
      "outputs": [],
      "source": [
        "quote = \"Peace is the only battle worth waging\"    # '....' can be used instead of \"....\"\n",
        "quote"
      ]
    },
    {
      "cell_type": "markdown",
      "id": "b48e2f3d",
      "metadata": {
        "id": "b48e2f3d"
      },
      "source": [
        "Strings are arrays of characters and can be indexed. This indexing mechanism -- or **slicing** -- is VERY important in python and scientific python !"
      ]
    },
    {
      "cell_type": "code",
      "execution_count": null,
      "id": "de30a531",
      "metadata": {
        "id": "de30a531"
      },
      "outputs": [],
      "source": [
        "print(quote[0])      # indexes start at 0\n",
        "print(quote[6:24])   # this indicates start and stop indexes\n",
        "print(quote[0:6:2])  # this indicate start, stop, stride\n",
        "print(quote[:6])     # if start, stop or stride omitted; they are assumed to be 0, len(str), and 1\n",
        "print(quote[-1])     # negative index must be counted from the end (-1 = last item, -2 = second last...)\n",
        "print(quote[::-1])   # negative stride will return the slice backward "
      ]
    },
    {
      "cell_type": "markdown",
      "id": "79b83daa",
      "metadata": {
        "id": "79b83daa"
      },
      "source": [
        "Some methods are associated to strings, for instance the `replace()` method:  "
      ]
    },
    {
      "cell_type": "code",
      "execution_count": null,
      "id": "f8f0c805",
      "metadata": {
        "id": "f8f0c805"
      },
      "outputs": [],
      "source": [
        "new_quote = quote.replace(\"waging\", \"fighting\") # apply replace() method to the string object, returns a string\n",
        "print(quote)\n",
        "print(new_quote)"
      ]
    },
    {
      "cell_type": "markdown",
      "id": "91892b59",
      "metadata": {
        "id": "91892b59"
      },
      "source": [
        "### Variable assignment"
      ]
    },
    {
      "cell_type": "code",
      "execution_count": null,
      "id": "1060343c",
      "metadata": {
        "id": "1060343c"
      },
      "outputs": [],
      "source": [
        "a = 1\n",
        "b = 2\n",
        "c, d = 3, 4\n",
        "print(a, b, c, d)"
      ]
    },
    {
      "cell_type": "code",
      "execution_count": null,
      "id": "7209aecc",
      "metadata": {
        "id": "7209aecc"
      },
      "outputs": [],
      "source": [
        "e = f = g = 5\n",
        "print(e, f, g)"
      ]
    },
    {
      "cell_type": "code",
      "execution_count": null,
      "id": "c5655e74",
      "metadata": {
        "id": "c5655e74"
      },
      "outputs": [],
      "source": [
        "e = 6     # e has been restet to 6, this doesn't affect f\n",
        "print(f)"
      ]
    },
    {
      "cell_type": "markdown",
      "id": "bf4d6279",
      "metadata": {
        "id": "bf4d6279"
      },
      "source": [
        "### Containers\n",
        "#### List: \n",
        "Lists are mutable sets of objects"
      ]
    },
    {
      "cell_type": "code",
      "execution_count": null,
      "id": "7b0c5815",
      "metadata": {
        "id": "7b0c5815"
      },
      "outputs": [],
      "source": [
        "# List  (mutable set of objects)\n",
        "my_list = [a, quote, 3*6]\n",
        "my_list"
      ]
    },
    {
      "cell_type": "code",
      "execution_count": null,
      "id": "9845b3a2",
      "metadata": {
        "id": "9845b3a2"
      },
      "outputs": [],
      "source": [
        "# mutable means that an item can be changed ...\n",
        "my_list[0] = 2\n",
        "my_list"
      ]
    },
    {
      "cell_type": "code",
      "execution_count": null,
      "id": "518045f6",
      "metadata": {
        "id": "518045f6"
      },
      "outputs": [],
      "source": [
        "# ... or removed... \n",
        "my_list.remove(18)\n",
        "print(my_list)"
      ]
    },
    {
      "cell_type": "code",
      "execution_count": null,
      "id": "9dd23f86",
      "metadata": {
        "id": "9dd23f86"
      },
      "outputs": [],
      "source": [
        "# ... or added\n",
        "my_list.append(new_quote)\n",
        "print(my_list)"
      ]
    },
    {
      "cell_type": "markdown",
      "id": "e85545f4",
      "metadata": {
        "id": "e85545f4"
      },
      "source": [
        "#### Tuple\n",
        "Lists are immutable sets of objects. They cannot be changed but reading/iterating over tuples is more efficient than over list"
      ]
    },
    {
      "cell_type": "code",
      "execution_count": null,
      "id": "4a1b123d",
      "metadata": {
        "id": "4a1b123d"
      },
      "outputs": [],
      "source": [
        "my_tuple = (a, quote, 3*6)\n",
        "my_tuple"
      ]
    },
    {
      "cell_type": "code",
      "execution_count": null,
      "id": "22f3a833",
      "metadata": {
        "id": "22f3a833"
      },
      "outputs": [],
      "source": [
        "# tuple elements can be addressed\n",
        "my_tuple[2]"
      ]
    },
    {
      "cell_type": "code",
      "execution_count": null,
      "id": "a6456d37",
      "metadata": {
        "id": "a6456d37"
      },
      "outputs": [],
      "source": [
        "# but not changed\n",
        "try:\n",
        "    my_tuple[2] = 5\n",
        "except TypeError:\n",
        "    print(\"there's been a TypeError\")"
      ]
    },
    {
      "cell_type": "markdown",
      "id": "95c0cb20",
      "metadata": {
        "id": "95c0cb20"
      },
      "source": [
        "#### Dictionary (dict)\n",
        "Dictionaries store data in `key: value` pairs.\n"
      ]
    },
    {
      "cell_type": "code",
      "execution_count": null,
      "id": "55f1ed79",
      "metadata": {
        "id": "55f1ed79"
      },
      "outputs": [],
      "source": [
        "my_dict = {\"quote\": quote,\n",
        "          \"author\": \"A. Camus\",\n",
        "          \"year\": 1945}\n",
        "my_dict"
      ]
    },
    {
      "cell_type": "code",
      "execution_count": null,
      "id": "23729130",
      "metadata": {
        "id": "23729130"
      },
      "outputs": [],
      "source": [
        "# items must be adressed by their key (my_dict[0] would return an error\n",
        "my_dict[\"quote\"]"
      ]
    },
    {
      "cell_type": "code",
      "execution_count": null,
      "id": "70730f77",
      "metadata": {
        "id": "70730f77"
      },
      "outputs": [],
      "source": [
        "# dict are mutable objects\n",
        "my_dict[\"quote\"] = new_quote\n",
        "my_dict"
      ]
    },
    {
      "cell_type": "code",
      "execution_count": null,
      "id": "9b9bbe97",
      "metadata": {
        "id": "9b9bbe97"
      },
      "outputs": [],
      "source": [
        "my_dict[\"source\"] = \"Editorial for \\\"Combat\\\"\"   # in a string, \\ allows escaping the next character\n",
        "my_dict"
      ]
    },
    {
      "cell_type": "code",
      "execution_count": null,
      "id": "59c3af64",
      "metadata": {
        "id": "59c3af64"
      },
      "outputs": [],
      "source": [
        "my_dict.pop(\"source\")\n",
        "my_dict"
      ]
    },
    {
      "cell_type": "markdown",
      "id": "d654a1cf",
      "metadata": {
        "id": "d654a1cf"
      },
      "source": [
        "### Basic Control Flow\n",
        "#### Conditional statement"
      ]
    },
    {
      "cell_type": "code",
      "execution_count": null,
      "id": "ecbcd522",
      "metadata": {
        "id": "ecbcd522"
      },
      "outputs": [],
      "source": [
        "my_var = 1000\n",
        "if my_var < 10:       # if {bool or bool expression} :\n",
        "    print(\"small\")    #    indentation is important !\n",
        "elif my_var < 20:     # elif and else are optional\n",
        "    print(\"medium\")\n",
        "else:\n",
        "    print(\"large\")"
      ]
    },
    {
      "cell_type": "markdown",
      "id": "637169d9",
      "metadata": {
        "id": "637169d9"
      },
      "source": [
        "#### for loop\n",
        "iterate over a container"
      ]
    },
    {
      "cell_type": "code",
      "execution_count": null,
      "id": "98b4dbdf",
      "metadata": {
        "id": "98b4dbdf"
      },
      "outputs": [],
      "source": [
        "for i in range(3): # range(start, stop, step) returns numbers from start (default 0) to stop, with steps of step (default 1 )\n",
        "    print(i)       # indentation is important"
      ]
    },
    {
      "cell_type": "code",
      "execution_count": null,
      "id": "f383fa36",
      "metadata": {
        "id": "f383fa36"
      },
      "outputs": [],
      "source": [
        "for key in my_dict.keys():   # keys() method returns a list of the dict keys\n",
        "    print(f\"key: [{key}] has value: {my_dict[key]}\")"
      ]
    },
    {
      "cell_type": "code",
      "execution_count": null,
      "id": "7eeab649",
      "metadata": {
        "id": "7eeab649"
      },
      "outputs": [],
      "source": [
        "for i, item in enumerate(my_list):  # enumerate(container) returns an index (0, 1, ...) and an item\n",
        "    print(f\"item #{i} has value: {item} and is of type {type(item)}\")"
      ]
    },
    {
      "cell_type": "markdown",
      "id": "ec7059c1",
      "metadata": {
        "id": "ec7059c1"
      },
      "source": [
        "#### while loop\n",
        "iterate until a condtion is reached  (beware of infinite loops...)"
      ]
    },
    {
      "cell_type": "code",
      "execution_count": null,
      "id": "ff59c6d9",
      "metadata": {
        "id": "ff59c6d9"
      },
      "outputs": [],
      "source": [
        "my_var = 0\n",
        "while  my_var < 5: # while {bool}:\n",
        "    my_var += 1    # equivalent to my_var = my_var + 1\n",
        "    print(my_var)"
      ]
    },
    {
      "cell_type": "markdown",
      "id": "19320edd",
      "metadata": {
        "id": "19320edd"
      },
      "source": [
        "#### Nested loops\n",
        "Often needed, python indentation maks them easy to read\n"
      ]
    },
    {
      "cell_type": "code",
      "execution_count": null,
      "id": "92f245a4",
      "metadata": {
        "id": "92f245a4"
      },
      "outputs": [],
      "source": [
        "for i in range(1, 10):\n",
        "    fact = i\n",
        "    for j in range(i-1,0,-1):\n",
        "        fact *= j\n",
        "    print(f\"{i}! = {fact}\")"
      ]
    },
    {
      "cell_type": "markdown",
      "id": "e12b877e",
      "metadata": {
        "id": "e12b877e"
      },
      "source": [
        "### Defining one's own functions\n",
        "\n",
        "Functions must be defined for repeatedly, in particular:\n",
        "- importing/formating data\n",
        "- processing data\n",
        "- formating output \n",
        "- ...\n"
      ]
    },
    {
      "cell_type": "code",
      "execution_count": null,
      "id": "e88f37a3",
      "metadata": {
        "id": "e88f37a3"
      },
      "outputs": [],
      "source": [
        "def fact(num):\n",
        "    fact = num\n",
        "    for j in range(num-1,0,-1):\n",
        "            fact *= j\n",
        "    return fact\n"
      ]
    },
    {
      "cell_type": "code",
      "execution_count": null,
      "id": "c5dcdfce",
      "metadata": {
        "id": "c5dcdfce"
      },
      "outputs": [],
      "source": [
        "fact(10)"
      ]
    },
    {
      "cell_type": "markdown",
      "id": "db0aa65d",
      "metadata": {
        "id": "db0aa65d"
      },
      "source": [
        "In case of complicated functions and/or if you intend to use it for a while, a good practice is to add a docstring and to comment the code:"
      ]
    },
    {
      "cell_type": "code",
      "execution_count": null,
      "id": "1a5b2a72",
      "metadata": {
        "id": "1a5b2a72"
      },
      "outputs": [],
      "source": [
        "def fact(num):\n",
        "    \"\"\"\n",
        "    compute factorial of an int.\n",
        "    \n",
        "    parameters\n",
        "    ----------\n",
        "    num : int\n",
        "    \n",
        "    returns\n",
        "    -------\n",
        "    int\n",
        "        the factorial of num.\n",
        "    \n",
        "    examples\n",
        "    --------\n",
        "    >>> fact(10)\n",
        "    3628800\n",
        "    \"\"\"\n",
        "    # initialize fact\n",
        "    fact = num \n",
        "    for j in range(num-1,0,-1): # iterate by decreasing integer value \n",
        "            fact *= j\n",
        "    return fact"
      ]
    },
    {
      "cell_type": "markdown",
      "id": "8b10f02b",
      "metadata": {
        "id": "8b10f02b"
      },
      "source": [
        "The dosctring is used by python through the `help()` function:"
      ]
    },
    {
      "cell_type": "code",
      "execution_count": null,
      "id": "f1cd3437",
      "metadata": {
        "id": "f1cd3437"
      },
      "outputs": [],
      "source": [
        "help(fact)"
      ]
    },
    {
      "cell_type": "code",
      "execution_count": null,
      "id": "003de832",
      "metadata": {
        "id": "003de832"
      },
      "outputs": [],
      "source": [
        "fact(0)"
      ]
    },
    {
      "cell_type": "markdown",
      "id": "3302bf63",
      "metadata": {
        "id": "3302bf63"
      },
      "source": [
        "Another good practice is to check the input and raise errors:"
      ]
    },
    {
      "cell_type": "code",
      "execution_count": null,
      "id": "b21508fe",
      "metadata": {
        "id": "b21508fe"
      },
      "outputs": [],
      "source": [
        "def new_fact(num):\n",
        "    \"\"\"\n",
        "    compute factorial of an int.\n",
        "    \n",
        "    parameters\n",
        "    ----------\n",
        "    num : int\n",
        "    \n",
        "    returns\n",
        "    -------\n",
        "    int\n",
        "        the factorial of num.\n",
        "    \"\"\"\n",
        "    # check input\n",
        "    if not isinstance(num, int):\n",
        "        raise ValueError(\"input must be an integer\")\n",
        "    elif num < 0:\n",
        "        raise ValueError(\"input must be a positive number\")\n",
        "    elif num == 0:\n",
        "        return 1  # by definiton 0! = 1\n",
        "    \n",
        "    # initialize fact\n",
        "    fact = num \n",
        "    for j in range(num-1,0,-1): # iterate by decreasing integer value \n",
        "            fact *= j\n",
        "    return fact"
      ]
    },
    {
      "cell_type": "code",
      "execution_count": null,
      "id": "2920f77e",
      "metadata": {
        "id": "2920f77e"
      },
      "outputs": [],
      "source": [
        "new_fact(10.4)"
      ]
    },
    {
      "cell_type": "markdown",
      "id": "cba2c713",
      "metadata": {
        "id": "cba2c713"
      },
      "source": [
        "## Classes, objects, methods, attributes\n",
        "#### Introduction\n",
        "\n",
        "Python is an *oriented object programming* language. Like Monsieur Jourdain, we have been using objects since the begining without knowing it...\n",
        "\n",
        "The stings, lists, integers, floats, dictionaries, ... we have defined were particular *instances* -- called **objects** -- of the `str`, `list`, `int`, `dict` **classes** defined in python.\n",
        "\n",
        "All objects of a particular class share the same set of **methods** and **attributes** of its class. A complete list of **methods** and **attributes** of a class can be obtained by the python `dir(object)` function. Names with double undercore (for instance `__add__()` and `__class__` below), correspond to \"special\" attibutes and mathiods that poython is expected to find for this object. "
      ]
    },
    {
      "cell_type": "code",
      "execution_count": null,
      "id": "df60a6e2",
      "metadata": {
        "id": "df60a6e2"
      },
      "outputs": [],
      "source": [
        "for name in dir(quote):\n",
        "    print(f\"{name}\", end=\", \")  # end=\", \" argument in the print function replaces the default newline (\\n) by \", \" "
      ]
    },
    {
      "cell_type": "markdown",
      "id": "cefd51c0",
      "metadata": {
        "id": "cefd51c0"
      },
      "source": [
        "Each attribute or method can be accessed with the \".\" operator. For instance the name of the object's class is the `__class__` attribute which exists for all python objects:"
      ]
    },
    {
      "cell_type": "code",
      "execution_count": null,
      "id": "726d2454",
      "metadata": {
        "id": "726d2454"
      },
      "outputs": [],
      "source": [
        "\"1745\".isnumeric()"
      ]
    },
    {
      "cell_type": "code",
      "execution_count": null,
      "id": "e818c9a0",
      "metadata": {
        "id": "e818c9a0"
      },
      "outputs": [],
      "source": [
        "a = 23.\n",
        "a.__class__"
      ]
    },
    {
      "cell_type": "code",
      "execution_count": null,
      "id": "3d1c3e4c",
      "metadata": {
        "id": "3d1c3e4c"
      },
      "outputs": [],
      "source": [
        "type(a)"
      ]
    },
    {
      "cell_type": "code",
      "execution_count": null,
      "id": "c49da1c4",
      "metadata": {
        "id": "c49da1c4"
      },
      "outputs": [],
      "source": [
        "# an easier way to get is to use type()\n",
        "type(quote)"
      ]
    },
    {
      "cell_type": "markdown",
      "id": "4a0d448f",
      "metadata": {
        "id": "4a0d448f"
      },
      "source": [
        "Beside \"special\" methods - e.g. `__init()__` which we will see below, many methods are specific a class. For instance the `str`class has a `replace()` method (see above), a `split()` method:"
      ]
    },
    {
      "cell_type": "code",
      "execution_count": null,
      "id": "362ef2e3",
      "metadata": {
        "id": "362ef2e3"
      },
      "outputs": [],
      "source": [
        "\"QLSDNLnf§SNEF§L\".split('f')"
      ]
    },
    {
      "cell_type": "markdown",
      "id": "2b181d16",
      "metadata": {
        "id": "2b181d16"
      },
      "source": [
        "In general `help(class)` give a lot of information on the atrtributes and objects of a given class "
      ]
    },
    {
      "cell_type": "code",
      "execution_count": null,
      "id": "c96eccc5",
      "metadata": {
        "id": "c96eccc5"
      },
      "outputs": [],
      "source": [
        "help(str)"
      ]
    },
    {
      "cell_type": "markdown",
      "id": "c34ca02a",
      "metadata": {
        "id": "c34ca02a"
      },
      "source": [
        "### Defining one's own classes\n",
        "\n",
        "Even if you are (still) not familiar with *OOP* (oriented object programming), defining and working with one's own class is a very powerful way to use python. Here we will see ho to define simple classes. \n",
        "\n",
        "##### Example:  a Rectangle class"
      ]
    },
    {
      "cell_type": "code",
      "execution_count": null,
      "id": "abc8682b",
      "metadata": {
        "id": "abc8682b"
      },
      "outputs": [],
      "source": [
        "class Rectangle:\n",
        "    def __init__(self, length, width):     # __init__(self, *params) defines how a generic instance (self) will \n",
        "        self.length = length               # be initialized with *params. Here the objects will initially have \n",
        "        self.width = width                 # `width` and `length` attributes    \n",
        "            \n",
        "    def shrink(self):                     # here we define a shrink() method \n",
        "        self.length /= 2                  # a /= 2 is a equivalent to a = a /2\n",
        "        self.width /= 2\n",
        "        \n",
        "    @property                           # the @property decorator method will make area() look like an attribute\n",
        "    def area(self):\n",
        "        return self.length * self.width    "
      ]
    },
    {
      "cell_type": "code",
      "execution_count": null,
      "id": "0af9ce93",
      "metadata": {
        "id": "0af9ce93"
      },
      "outputs": [],
      "source": [
        "r1 = Rectangle(10, 5)\n",
        "r1.shrink()\n",
        "r1.length"
      ]
    },
    {
      "cell_type": "code",
      "execution_count": null,
      "id": "1a6e66bf",
      "metadata": {
        "id": "1a6e66bf"
      },
      "outputs": [],
      "source": [
        "r1.area"
      ]
    },
    {
      "cell_type": "markdown",
      "id": "9d8c4906",
      "metadata": {
        "id": "9d8c4906"
      },
      "source": [
        "##### Class inheritence: Square and Cube classes\n",
        "\n",
        "An importanty mechanism is *class inheritence* that can be used to define other subclasses.... for instance squares:"
      ]
    },
    {
      "cell_type": "code",
      "execution_count": null,
      "id": "6b2cd1d3",
      "metadata": {
        "id": "6b2cd1d3"
      },
      "outputs": [],
      "source": [
        "class Square(Rectangle):            # Square will be a subcvlass of rectangle\n",
        "    def __init__(self, length):\n",
        "        super().__init__(length, length)   # super() refers to the subclass, so super().__init__() is the __init()__\n",
        "                                           # method of Rectangle above..\n"
      ]
    },
    {
      "cell_type": "code",
      "execution_count": null,
      "id": "5c3a56b9",
      "metadata": {
        "id": "5c3a56b9"
      },
      "outputs": [],
      "source": [
        "s1 = Square(10)\n",
        "s1.area"
      ]
    },
    {
      "cell_type": "code",
      "execution_count": null,
      "id": "5328481a",
      "metadata": {
        "id": "5328481a"
      },
      "outputs": [],
      "source": [
        "s1.shrink()\n",
        "s1.area"
      ]
    },
    {
      "cell_type": "markdown",
      "id": "d01fa158",
      "metadata": {
        "id": "d01fa158"
      },
      "source": [
        "Class inheritence is generally used to define \"variants\" of a given class (example above), of more complex classes from simpler ones. For instance:"
      ]
    },
    {
      "cell_type": "code",
      "execution_count": null,
      "id": "ccd5a8a0",
      "metadata": {
        "id": "ccd5a8a0"
      },
      "outputs": [],
      "source": [
        "class Cube(Square):   \n",
        "                          # no need of __init__(): Square.__init__() will be used ny default\n",
        "    @property             # here we just need to re-define area() \n",
        "    def area(self):\n",
        "        return 6 * length**2\n",
        "    @property             #and we add a volume() method  \n",
        "    def volume(self):\n",
        "        return self.length**3\n",
        "    "
      ]
    },
    {
      "cell_type": "code",
      "execution_count": null,
      "id": "8308914f",
      "metadata": {
        "id": "8308914f"
      },
      "outputs": [],
      "source": [
        "c = Cube(2)\n",
        "c.volume"
      ]
    },
    {
      "cell_type": "code",
      "execution_count": null,
      "id": "dde5f853",
      "metadata": {
        "id": "dde5f853"
      },
      "outputs": [],
      "source": [
        "c.shrink()\n",
        "c.volume"
      ]
    },
    {
      "cell_type": "markdown",
      "id": "a0f8f5d4",
      "metadata": {
        "id": "a0f8f5d4"
      },
      "source": [
        "Again a good practice if you intend to use extensively a class : add doc string, implement special methods.."
      ]
    },
    {
      "cell_type": "code",
      "execution_count": null,
      "id": "a51923bb",
      "metadata": {
        "id": "a51923bb"
      },
      "outputs": [],
      "source": [
        "class Cube(Square):   \n",
        "    \"\"\"\n",
        "    Implements a Cube class\n",
        "    \n",
        "    parameters:\n",
        "    ----------\n",
        "    length: float\n",
        "        the cube edge length\n",
        "    \n",
        "    attributes:\n",
        "    ----------\n",
        "    area: float\n",
        "        total area of the cube's faces\n",
        "    \n",
        "    volume: float\n",
        "        volume of the cube.\n",
        "    \n",
        "    methods:\n",
        "    -------\n",
        "    shrink\n",
        "        shrinks the cube edges by a factor 1\n",
        "    \"\"\"\n",
        "    def __eq__(self, other):\n",
        "        return self.length == other.length \n",
        "    \n",
        "    def __gt__(self, other):\n",
        "        return self.length > other.length\n",
        "    \n",
        "    # special methods to be completed...\n",
        "                         \n",
        "    @property             \n",
        "    def area(self):\n",
        "        return 6 * length**2\n",
        "    @property            \n",
        "    def volume(self):\n",
        "        return self.length**3"
      ]
    },
    {
      "cell_type": "markdown",
      "id": "39be32d7",
      "metadata": {
        "id": "39be32d7"
      },
      "source": [
        "The special methods `__eq__()` and   `__gt__()` defined abover allows defining `==` and `>` comparison operators for `Cube` objects:"
      ]
    },
    {
      "cell_type": "code",
      "execution_count": null,
      "id": "4fd28875",
      "metadata": {
        "id": "4fd28875"
      },
      "outputs": [],
      "source": [
        "c2 = Cube(2)\n",
        "c3 = Cube(3)\n",
        "print(c2 == c3)\n",
        "print(c3 > c2)\n",
        "print(c3 < c2)"
      ]
    },
    {
      "cell_type": "markdown",
      "id": "087a5df6",
      "metadata": {
        "id": "087a5df6"
      },
      "source": [
        "## Python modules \n",
        "### Introduction\n",
        "\n",
        "Python modules are given collections of Python classes and functions builf for various purposes. Some belong to the standard Python distribution (\"Standard Modules\") for instance `pathlib` for directory/file structure managempent, `math` for most of basic math functions, ...). Others belong to external packages that must be installed on top of the standard python. \n",
        "\n",
        "In all case, the module `namespace` (or a part of it) must imported before using any module' submodule, function or class. For instance, `sqrt()` does not belong to the core of python, but is in the `math` module: "
      ]
    },
    {
      "cell_type": "code",
      "execution_count": null,
      "id": "461f9c18",
      "metadata": {
        "id": "461f9c18"
      },
      "outputs": [],
      "source": [
        "try:\n",
        "    sqrt(5)\n",
        "except NameError:\n",
        "    print(\"NameError\")"
      ]
    },
    {
      "cell_type": "markdown",
      "id": "cf49a956",
      "metadata": {
        "id": "cf49a956"
      },
      "source": [
        "The whole namespace of `math` can be imported. In such case, all functions belonging to this module can be accessed with `math.function()`."
      ]
    },
    {
      "cell_type": "code",
      "execution_count": null,
      "id": "e7c7cbda",
      "metadata": {
        "id": "e7c7cbda"
      },
      "outputs": [],
      "source": [
        "import math\n",
        "math.sqrt(5)"
      ]
    },
    {
      "cell_type": "markdown",
      "id": "a3cdffc3",
      "metadata": {
        "id": "a3cdffc3"
      },
      "source": [
        "Or only specific functions or constants can be imported: "
      ]
    },
    {
      "cell_type": "code",
      "execution_count": null,
      "id": "92e1048a",
      "metadata": {
        "id": "92e1048a"
      },
      "outputs": [],
      "source": [
        "from math import sqrt, sin, pi\n",
        "print(sqrt(5))\n",
        "print(sin(pi/4))"
      ]
    },
    {
      "cell_type": "markdown",
      "id": "882ce2c2",
      "metadata": {
        "id": "882ce2c2"
      },
      "source": [
        "![D9](img/Diapositive9.PNG)"
      ]
    },
    {
      "cell_type": "markdown",
      "id": "7f340e84",
      "metadata": {
        "id": "7f340e84"
      },
      "source": [
        "## The Numpy module\n",
        "### Create arrays\n",
        "Here a 1D-array of floats from a python list:"
      ]
    },
    {
      "cell_type": "code",
      "execution_count": null,
      "id": "aec38aac",
      "metadata": {
        "id": "aec38aac"
      },
      "outputs": [],
      "source": [
        "import numpy as np   # so that functyions can be calles as np.function() instead of numpy.functions()\n",
        "A = np.array([0.0, 1.0, 2.0,  3.0])\n",
        "print(A)\n",
        "print(A.shape)\n",
        "print(A.dtype)"
      ]
    },
    {
      "cell_type": "markdown",
      "id": "c08fe90d",
      "metadata": {
        "id": "c08fe90d"
      },
      "source": [
        " A 2D-array of floats from a python list of  lists:"
      ]
    },
    {
      "cell_type": "code",
      "execution_count": null,
      "id": "f4d6e550",
      "metadata": {
        "id": "f4d6e550"
      },
      "outputs": [],
      "source": [
        "B = np.array([[0.0, 1.0, 2.0,  3.0], \n",
        "              [0.5, 1.8, 2.8, 4.0]])\n",
        "print(B)\n",
        "print(B.shape)"
      ]
    },
    {
      "cell_type": "markdown",
      "id": "ae4fbecf",
      "metadata": {
        "id": "ae4fbecf"
      },
      "source": [
        "Illustration of other methods:"
      ]
    },
    {
      "cell_type": "code",
      "execution_count": null,
      "id": "2fe21d96",
      "metadata": {
        "id": "2fe21d96"
      },
      "outputs": [],
      "source": [
        "C = np.ones((3,3))   # the shape of the array is given by the tuple (3, 3)\n",
        "print(C)"
      ]
    },
    {
      "cell_type": "code",
      "execution_count": null,
      "id": "411b6319",
      "metadata": {
        "id": "411b6319"
      },
      "outputs": [],
      "source": [
        "D = np.zeros((2, 5))\n",
        "print(D)"
      ]
    },
    {
      "cell_type": "code",
      "execution_count": null,
      "id": "f926ee7a",
      "metadata": {
        "id": "f926ee7a"
      },
      "outputs": [],
      "source": [
        "E = np.eye(3)\n",
        "print(E)"
      ]
    },
    {
      "cell_type": "markdown",
      "id": "5edf3511",
      "metadata": {
        "id": "5edf3511"
      },
      "source": [
        "## Some basic operations on arrays"
      ]
    },
    {
      "cell_type": "code",
      "execution_count": null,
      "id": "5536068f",
      "metadata": {
        "id": "5536068f"
      },
      "outputs": [],
      "source": [
        "C + E  # addition, elmement by element"
      ]
    },
    {
      "cell_type": "code",
      "execution_count": null,
      "id": "145ccc4a",
      "metadata": {
        "id": "145ccc4a"
      },
      "outputs": [],
      "source": [
        "E + 1  # broadcasting: numpy guess that you want add 1 to each element; your algebra teacher wouldn't agree ..."
      ]
    },
    {
      "cell_type": "code",
      "execution_count": null,
      "id": "8ce07cef",
      "metadata": {
        "id": "8ce07cef"
      },
      "outputs": [],
      "source": [
        "A + B   # broatcasting A (shape=(4,)) is addes toi each line of B (shape=(2,4))"
      ]
    },
    {
      "cell_type": "code",
      "execution_count": null,
      "id": "3c96803c",
      "metadata": {
        "id": "3c96803c"
      },
      "outputs": [],
      "source": [
        "A * B  # multiplication, elements by element"
      ]
    },
    {
      "cell_type": "code",
      "execution_count": null,
      "id": "93c5a9f7",
      "metadata": {
        "id": "93c5a9f7"
      },
      "outputs": [],
      "source": [
        "np.dot(B, A)  # matrix multiplication"
      ]
    },
    {
      "cell_type": "code",
      "execution_count": null,
      "id": "d58ec7a7",
      "metadata": {
        "id": "d58ec7a7"
      },
      "outputs": [],
      "source": [
        "E == 1   # comparison"
      ]
    },
    {
      "cell_type": "code",
      "execution_count": null,
      "id": "1aae1c12",
      "metadata": {
        "id": "1aae1c12"
      },
      "outputs": [],
      "source": [
        "C > E  # comparison"
      ]
    },
    {
      "cell_type": "markdown",
      "id": "2055902e",
      "metadata": {
        "id": "2055902e"
      },
      "source": [
        "## Math universal fucntions (ufunc)\n",
        "\n",
        "Universal fucntions are element-wise:"
      ]
    },
    {
      "cell_type": "code",
      "execution_count": null,
      "id": "21ccab29",
      "metadata": {
        "id": "21ccab29"
      },
      "outputs": [],
      "source": [
        "print(np.sqrt(A))\n",
        "print(np.exp(A))\n",
        "print(np.sin(A))"
      ]
    },
    {
      "cell_type": "markdown",
      "id": "13dbdb84",
      "metadata": {
        "id": "13dbdb84"
      },
      "source": [
        "## Slicing\n",
        "\n",
        "The slicing mechanism is similar to those of strings or lists"
      ]
    },
    {
      "cell_type": "code",
      "execution_count": null,
      "id": "fe16e876",
      "metadata": {
        "id": "fe16e876"
      },
      "outputs": [],
      "source": [
        "A = np.arange(0, 2, 0.25)\n",
        "print(A)\n",
        "B = A[::2]\n",
        "print(B)"
      ]
    },
    {
      "cell_type": "markdown",
      "id": "e8e6ab20",
      "metadata": {
        "id": "e8e6ab20"
      },
      "source": [
        "For 2D arrays, one can specify several dimensions on wich to slice:"
      ]
    },
    {
      "cell_type": "code",
      "execution_count": null,
      "id": "5b05e0c5",
      "metadata": {
        "id": "5b05e0c5"
      },
      "outputs": [],
      "source": [
        "print(E[0:2, :])  # selct 2 lines and all columns"
      ]
    },
    {
      "cell_type": "markdown",
      "id": "78f703ed",
      "metadata": {
        "id": "78f703ed"
      },
      "source": [
        "## ndarray View vs copy"
      ]
    },
    {
      "cell_type": "code",
      "execution_count": null,
      "id": "ffb40784",
      "metadata": {
        "id": "ffb40784"
      },
      "outputs": [],
      "source": [
        "B[0] = 100\n",
        "print(B)\n",
        "print(A)  # surprised ? "
      ]
    },
    {
      "cell_type": "markdown",
      "id": "22390aec",
      "metadata": {
        "id": "22390aec"
      },
      "source": [
        "Actually, `A[::2]` is a view of `A`, and the assignement `B = A[::2]` just adds a new name (`B`) to the same memory blocks as thiose addressed by `B[::2]`, so changing `B[0]` is fully equivalent to changing `B[::2][0]`... In order to avoid this behaviour, one must define `B` as a copy:"
      ]
    },
    {
      "cell_type": "code",
      "execution_count": null,
      "id": "82f78b06",
      "metadata": {
        "id": "82f78b06"
      },
      "outputs": [],
      "source": [
        "A = np.arange(0, 2, 0.25)\n",
        "B = A[::2].copy()\n",
        "B[0] = 100\n",
        "print(B)\n",
        "print(A)"
      ]
    },
    {
      "cell_type": "markdown",
      "id": "7f84daec",
      "metadata": {
        "id": "7f84daec"
      },
      "source": [
        "## Calculations over specific dimensions\n",
        "Let's define a 5x10 nd array with random numbers:"
      ]
    },
    {
      "cell_type": "code",
      "execution_count": null,
      "id": "ae836bd8",
      "metadata": {
        "id": "ae836bd8"
      },
      "outputs": [],
      "source": [
        "A = np.random.rand(5,10)\n",
        "A.shape"
      ]
    },
    {
      "cell_type": "code",
      "execution_count": null,
      "id": "9da66510",
      "metadata": {
        "id": "9da66510"
      },
      "outputs": [],
      "source": [
        "np.sum(A)   # here the sum runs aver all elements"
      ]
    },
    {
      "cell_type": "code",
      "execution_count": null,
      "id": "7ea28a2a",
      "metadata": {
        "id": "7ea28a2a"
      },
      "outputs": [],
      "source": [
        "np.sum(A, axis=0)  # here in each column (i.e. along the 1st dimension)"
      ]
    },
    {
      "cell_type": "code",
      "execution_count": null,
      "id": "d18f13fc",
      "metadata": {
        "id": "d18f13fc"
      },
      "outputs": [],
      "source": [
        "np.sum(A, axis=1)  # here in each row (i.e. along the 2nd dimension)"
      ]
    },
    {
      "cell_type": "markdown",
      "id": "e9822e28",
      "metadata": {
        "id": "e9822e28"
      },
      "source": [
        "Many functions will behave like this: `np.mean`, `np.argmax`, `np.argmin`, `np.min`, `np.max`, `np.sort`, etc.\n"
      ]
    },
    {
      "cell_type": "markdown",
      "id": "f593f749",
      "metadata": {
        "id": "f593f749"
      },
      "source": [
        "## The Matplotlib module\n",
        "\n",
        "Matplotlib is a plotting library Python and Numpy/Scipy. Initially it was designed to closely resemble the ploting library of MATLAB, hence the name... It is vety easy to generate basic plots: "
      ]
    },
    {
      "cell_type": "code",
      "execution_count": null,
      "id": "a175e995",
      "metadata": {
        "id": "a175e995"
      },
      "outputs": [],
      "source": [
        "import matplotlib.pyplot as plt\n",
        "%matplotlib widget\n",
        "x = np.arange(-10, 10, 0.1)\n",
        "y = np.sinc(x)\n",
        "\n",
        "plt.plot(x,y)\n",
        "plt.show()"
      ]
    },
    {
      "cell_type": "markdown",
      "id": "8ce7a8aa",
      "metadata": {
        "id": "8ce7a8aa"
      },
      "source": [
        "all details of the plot can be customized, among the mosty common:"
      ]
    },
    {
      "cell_type": "code",
      "execution_count": null,
      "id": "370fab01",
      "metadata": {
        "id": "370fab01"
      },
      "outputs": [],
      "source": [
        "plt.figure(figsize=(10,2.5)) \n",
        "plt.plot(x,y, 'g.')\n",
        "plt.xlabel(\"x values\")\n",
        "plt.ylabel(\"y values\")\n",
        "plt.grid()"
      ]
    },
    {
      "cell_type": "markdown",
      "id": "5b29aacb",
      "metadata": {
        "id": "5b29aacb"
      },
      "source": [
        "Many examples and demos can be found in [https://matplotlib.org/stable/gallery/index.html](https://matplotlib.org/stable/gallery/index.html), witrh the source code for each of them !"
      ]
    },
    {
      "cell_type": "code",
      "execution_count": null,
      "id": "0b91b65d",
      "metadata": {
        "id": "0b91b65d"
      },
      "outputs": [],
      "source": []
    }
  ],
  "metadata": {
    "kernelspec": {
      "display_name": "Python 3 (ipykernel)",
      "language": "python",
      "name": "python3"
    },
    "language_info": {
      "codemirror_mode": {
        "name": "ipython",
        "version": 3
      },
      "file_extension": ".py",
      "mimetype": "text/x-python",
      "name": "python",
      "nbconvert_exporter": "python",
      "pygments_lexer": "ipython3",
      "version": "3.10.8"
    },
    "colab": {
      "provenance": [],
      "include_colab_link": true
    }
  },
  "nbformat": 4,
  "nbformat_minor": 5
}